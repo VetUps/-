{
 "cells": [
  {
   "cell_type": "markdown",
   "id": "493a5f99-eebc-43a8-b7cd-558a51a2e1cc",
   "metadata": {},
   "source": [
    "# Car Price Prediction"
   ]
  },
  {
   "cell_type": "markdown",
   "id": "bfd7f04f-f410-4c8d-94b2-a1ef4cbf23fa",
   "metadata": {},
   "source": [
    "## Постановка задачи"
   ]
  },
  {
   "cell_type": "markdown",
   "id": "d58f7f25-c62e-4095-840a-f9dc73033898",
   "metadata": {},
   "source": [
    "Датасет, с которым предстоит работать содержит различные данные о автомобилях из которых строится его цена.\n",
    "\n",
    "Нужно провести анализ данных, предобработку, обучить несколько моделей и провести сравнение результатов обучения на основе прогнозов цены автомобилей.  "
   ]
  },
  {
   "cell_type": "markdown",
   "id": "eb5cb282-fd7e-4d26-93d9-9fc762241003",
   "metadata": {},
   "source": [
    "### Подключение модулей"
   ]
  },
  {
   "cell_type": "markdown",
   "id": "34b4bcf5-f826-4d42-9a9a-8c5e0a9f0ed9",
   "metadata": {},
   "source": [
    "Для работы и визуализации данных"
   ]
  },
  {
   "cell_type": "code",
   "execution_count": 1,
   "id": "70c1af63-e733-4210-96b1-952ca627a498",
   "metadata": {},
   "outputs": [],
   "source": [
    "import pandas as pd\n",
    "import numpy as np\n",
    "import seaborn as sns\n",
    "\n",
    "import matplotlib.pyplot as plt\n",
    "%matplotlib inline\n",
    "\n",
    "import warnings\n",
    "warnings.filterwarnings('ignore')"
   ]
  },
  {
   "cell_type": "markdown",
   "id": "f69c5bc6-bcb8-45bb-9244-9ded5ff92cd7",
   "metadata": {},
   "source": [
    "Модели"
   ]
  },
  {
   "cell_type": "code",
   "execution_count": 2,
   "id": "e042c0a5-1337-4b95-802e-8fe0f86069b1",
   "metadata": {},
   "outputs": [],
   "source": [
    "from sklearn.model_selection import GridSearchCV\n",
    "from sklearn.linear_model import LinearRegression, LassoCV\n",
    "from sklearn.tree import DecisionTreeRegressor"
   ]
  },
  {
   "cell_type": "markdown",
   "id": "55a33cf3-c2df-4980-aa0e-0d018cbfbcd4",
   "metadata": {},
   "source": [
    "Для подготовки данных для обучения"
   ]
  },
  {
   "cell_type": "code",
   "execution_count": 3,
   "id": "0d793e4b-96ca-45f1-9fa3-b02c201193c2",
   "metadata": {},
   "outputs": [],
   "source": [
    "from sklearn.model_selection import train_test_split\n",
    "from sklearn.model_selection import KFold\n",
    "from sklearn.model_selection import cross_val_score\n",
    "from sklearn.preprocessing import MinMaxScaler, StandardScaler"
   ]
  },
  {
   "cell_type": "markdown",
   "id": "3b65353a-538a-4610-b2c8-29b6175e44e9",
   "metadata": {},
   "source": [
    "Метрики"
   ]
  },
  {
   "cell_type": "code",
   "execution_count": 4,
   "id": "9e6fbf81-0fc6-4d7f-a1b6-053fabebb1c0",
   "metadata": {},
   "outputs": [],
   "source": [
    "from sklearn.metrics import mean_absolute_error, mean_squared_error, r2_score"
   ]
  },
  {
   "cell_type": "markdown",
   "id": "2bbb9a51-cd28-4af8-9b58-623cf89a5267",
   "metadata": {},
   "source": [
    "### Загрузка данных"
   ]
  },
  {
   "cell_type": "markdown",
   "id": "353454aa-3bc8-4d89-adb9-4467d5dd6e06",
   "metadata": {},
   "source": [
    "Работа будет проводиться с датасетом cardata"
   ]
  },
  {
   "cell_type": "code",
   "execution_count": 5,
   "id": "9f121cd2-2c87-4f21-adc7-73985e12ca27",
   "metadata": {},
   "outputs": [],
   "source": [
    "df = pd.read_csv('cardata.csv')"
   ]
  },
  {
   "cell_type": "code",
   "execution_count": 6,
   "id": "315fb803-9035-41f5-9ae5-c7977da3996e",
   "metadata": {},
   "outputs": [
    {
     "data": {
      "text/html": [
       "<div>\n",
       "<style scoped>\n",
       "    .dataframe tbody tr th:only-of-type {\n",
       "        vertical-align: middle;\n",
       "    }\n",
       "\n",
       "    .dataframe tbody tr th {\n",
       "        vertical-align: top;\n",
       "    }\n",
       "\n",
       "    .dataframe thead th {\n",
       "        text-align: right;\n",
       "    }\n",
       "</style>\n",
       "<table border=\"1\" class=\"dataframe\">\n",
       "  <thead>\n",
       "    <tr style=\"text-align: right;\">\n",
       "      <th></th>\n",
       "      <th>Car_Name</th>\n",
       "      <th>Year</th>\n",
       "      <th>Selling_Price</th>\n",
       "      <th>Present_Price</th>\n",
       "      <th>Kms_Driven</th>\n",
       "      <th>Fuel_Type</th>\n",
       "      <th>Seller_Type</th>\n",
       "      <th>Transmission</th>\n",
       "      <th>Owner</th>\n",
       "    </tr>\n",
       "  </thead>\n",
       "  <tbody>\n",
       "    <tr>\n",
       "      <th>0</th>\n",
       "      <td>ritz</td>\n",
       "      <td>2014</td>\n",
       "      <td>3.35</td>\n",
       "      <td>5.59</td>\n",
       "      <td>27000</td>\n",
       "      <td>Petrol</td>\n",
       "      <td>Dealer</td>\n",
       "      <td>Manual</td>\n",
       "      <td>0</td>\n",
       "    </tr>\n",
       "    <tr>\n",
       "      <th>1</th>\n",
       "      <td>sx4</td>\n",
       "      <td>2013</td>\n",
       "      <td>4.75</td>\n",
       "      <td>9.54</td>\n",
       "      <td>43000</td>\n",
       "      <td>Diesel</td>\n",
       "      <td>Dealer</td>\n",
       "      <td>Manual</td>\n",
       "      <td>0</td>\n",
       "    </tr>\n",
       "    <tr>\n",
       "      <th>2</th>\n",
       "      <td>ciaz</td>\n",
       "      <td>2017</td>\n",
       "      <td>7.25</td>\n",
       "      <td>9.85</td>\n",
       "      <td>6900</td>\n",
       "      <td>Petrol</td>\n",
       "      <td>Dealer</td>\n",
       "      <td>Manual</td>\n",
       "      <td>0</td>\n",
       "    </tr>\n",
       "    <tr>\n",
       "      <th>3</th>\n",
       "      <td>wagon r</td>\n",
       "      <td>2011</td>\n",
       "      <td>2.85</td>\n",
       "      <td>4.15</td>\n",
       "      <td>5200</td>\n",
       "      <td>Petrol</td>\n",
       "      <td>Dealer</td>\n",
       "      <td>Manual</td>\n",
       "      <td>0</td>\n",
       "    </tr>\n",
       "    <tr>\n",
       "      <th>4</th>\n",
       "      <td>swift</td>\n",
       "      <td>2014</td>\n",
       "      <td>4.60</td>\n",
       "      <td>6.87</td>\n",
       "      <td>42450</td>\n",
       "      <td>Diesel</td>\n",
       "      <td>Dealer</td>\n",
       "      <td>Manual</td>\n",
       "      <td>0</td>\n",
       "    </tr>\n",
       "  </tbody>\n",
       "</table>\n",
       "</div>"
      ],
      "text/plain": [
       "  Car_Name  Year  Selling_Price  Present_Price  Kms_Driven Fuel_Type  \\\n",
       "0     ritz  2014           3.35           5.59       27000    Petrol   \n",
       "1      sx4  2013           4.75           9.54       43000    Diesel   \n",
       "2     ciaz  2017           7.25           9.85        6900    Petrol   \n",
       "3  wagon r  2011           2.85           4.15        5200    Petrol   \n",
       "4    swift  2014           4.60           6.87       42450    Diesel   \n",
       "\n",
       "  Seller_Type Transmission  Owner  \n",
       "0      Dealer       Manual      0  \n",
       "1      Dealer       Manual      0  \n",
       "2      Dealer       Manual      0  \n",
       "3      Dealer       Manual      0  \n",
       "4      Dealer       Manual      0  "
      ]
     },
     "execution_count": 6,
     "metadata": {},
     "output_type": "execute_result"
    }
   ],
   "source": [
    "df.head()"
   ]
  },
  {
   "cell_type": "markdown",
   "id": "ee9c7af0-cda0-448d-8931-dc01c482ad53",
   "metadata": {},
   "source": [
    "Посмотрим на информацию о датасете"
   ]
  },
  {
   "cell_type": "code",
   "execution_count": 7,
   "id": "a4d391c3-1ad0-4208-99e1-001856f2b4c2",
   "metadata": {},
   "outputs": [
    {
     "data": {
      "text/plain": [
       "(301, 9)"
      ]
     },
     "execution_count": 7,
     "metadata": {},
     "output_type": "execute_result"
    }
   ],
   "source": [
    "df.shape"
   ]
  },
  {
   "cell_type": "code",
   "execution_count": 8,
   "id": "aa90aaee-e574-4351-9f84-d335cb40d352",
   "metadata": {},
   "outputs": [
    {
     "name": "stdout",
     "output_type": "stream",
     "text": [
      "<class 'pandas.core.frame.DataFrame'>\n",
      "RangeIndex: 301 entries, 0 to 300\n",
      "Data columns (total 9 columns):\n",
      " #   Column         Non-Null Count  Dtype  \n",
      "---  ------         --------------  -----  \n",
      " 0   Car_Name       301 non-null    object \n",
      " 1   Year           301 non-null    int64  \n",
      " 2   Selling_Price  301 non-null    float64\n",
      " 3   Present_Price  301 non-null    float64\n",
      " 4   Kms_Driven     301 non-null    int64  \n",
      " 5   Fuel_Type      301 non-null    object \n",
      " 6   Seller_Type    301 non-null    object \n",
      " 7   Transmission   301 non-null    object \n",
      " 8   Owner          301 non-null    int64  \n",
      "dtypes: float64(2), int64(3), object(4)\n",
      "memory usage: 21.3+ KB\n"
     ]
    }
   ],
   "source": [
    "df.info()"
   ]
  },
  {
   "cell_type": "markdown",
   "id": "e5bffe79-1601-4d49-bab4-30dd85b33059",
   "metadata": {},
   "source": [
    "Размерность датасета: 301 запись и 9 признаков  \n",
    "3 признака типа int64  \n",
    "2 признака типа float64  \n",
    "4 признака типа object  \n",
    "Пропусков не наблюдается"
   ]
  },
  {
   "cell_type": "markdown",
   "id": "a53db2e3-4b32-4868-bad1-ec010c9426ab",
   "metadata": {},
   "source": [
    "Выведем описательную статистику, включая все признаки датасета"
   ]
  },
  {
   "cell_type": "code",
   "execution_count": 9,
   "id": "641eade2-a304-4df8-80bb-731e7e253906",
   "metadata": {},
   "outputs": [
    {
     "data": {
      "text/html": [
       "<div>\n",
       "<style scoped>\n",
       "    .dataframe tbody tr th:only-of-type {\n",
       "        vertical-align: middle;\n",
       "    }\n",
       "\n",
       "    .dataframe tbody tr th {\n",
       "        vertical-align: top;\n",
       "    }\n",
       "\n",
       "    .dataframe thead th {\n",
       "        text-align: right;\n",
       "    }\n",
       "</style>\n",
       "<table border=\"1\" class=\"dataframe\">\n",
       "  <thead>\n",
       "    <tr style=\"text-align: right;\">\n",
       "      <th></th>\n",
       "      <th>Car_Name</th>\n",
       "      <th>Year</th>\n",
       "      <th>Selling_Price</th>\n",
       "      <th>Present_Price</th>\n",
       "      <th>Kms_Driven</th>\n",
       "      <th>Fuel_Type</th>\n",
       "      <th>Seller_Type</th>\n",
       "      <th>Transmission</th>\n",
       "      <th>Owner</th>\n",
       "    </tr>\n",
       "  </thead>\n",
       "  <tbody>\n",
       "    <tr>\n",
       "      <th>count</th>\n",
       "      <td>301</td>\n",
       "      <td>301.000000</td>\n",
       "      <td>301.000000</td>\n",
       "      <td>301.000000</td>\n",
       "      <td>301.000000</td>\n",
       "      <td>301</td>\n",
       "      <td>301</td>\n",
       "      <td>301</td>\n",
       "      <td>301.000000</td>\n",
       "    </tr>\n",
       "    <tr>\n",
       "      <th>unique</th>\n",
       "      <td>98</td>\n",
       "      <td>NaN</td>\n",
       "      <td>NaN</td>\n",
       "      <td>NaN</td>\n",
       "      <td>NaN</td>\n",
       "      <td>3</td>\n",
       "      <td>2</td>\n",
       "      <td>2</td>\n",
       "      <td>NaN</td>\n",
       "    </tr>\n",
       "    <tr>\n",
       "      <th>top</th>\n",
       "      <td>city</td>\n",
       "      <td>NaN</td>\n",
       "      <td>NaN</td>\n",
       "      <td>NaN</td>\n",
       "      <td>NaN</td>\n",
       "      <td>Petrol</td>\n",
       "      <td>Dealer</td>\n",
       "      <td>Manual</td>\n",
       "      <td>NaN</td>\n",
       "    </tr>\n",
       "    <tr>\n",
       "      <th>freq</th>\n",
       "      <td>26</td>\n",
       "      <td>NaN</td>\n",
       "      <td>NaN</td>\n",
       "      <td>NaN</td>\n",
       "      <td>NaN</td>\n",
       "      <td>239</td>\n",
       "      <td>195</td>\n",
       "      <td>261</td>\n",
       "      <td>NaN</td>\n",
       "    </tr>\n",
       "    <tr>\n",
       "      <th>mean</th>\n",
       "      <td>NaN</td>\n",
       "      <td>2013.627907</td>\n",
       "      <td>4.661296</td>\n",
       "      <td>7.628472</td>\n",
       "      <td>36947.205980</td>\n",
       "      <td>NaN</td>\n",
       "      <td>NaN</td>\n",
       "      <td>NaN</td>\n",
       "      <td>0.043189</td>\n",
       "    </tr>\n",
       "    <tr>\n",
       "      <th>std</th>\n",
       "      <td>NaN</td>\n",
       "      <td>2.891554</td>\n",
       "      <td>5.082812</td>\n",
       "      <td>8.644115</td>\n",
       "      <td>38886.883882</td>\n",
       "      <td>NaN</td>\n",
       "      <td>NaN</td>\n",
       "      <td>NaN</td>\n",
       "      <td>0.247915</td>\n",
       "    </tr>\n",
       "    <tr>\n",
       "      <th>min</th>\n",
       "      <td>NaN</td>\n",
       "      <td>2003.000000</td>\n",
       "      <td>0.100000</td>\n",
       "      <td>0.320000</td>\n",
       "      <td>500.000000</td>\n",
       "      <td>NaN</td>\n",
       "      <td>NaN</td>\n",
       "      <td>NaN</td>\n",
       "      <td>0.000000</td>\n",
       "    </tr>\n",
       "    <tr>\n",
       "      <th>25%</th>\n",
       "      <td>NaN</td>\n",
       "      <td>2012.000000</td>\n",
       "      <td>0.900000</td>\n",
       "      <td>1.200000</td>\n",
       "      <td>15000.000000</td>\n",
       "      <td>NaN</td>\n",
       "      <td>NaN</td>\n",
       "      <td>NaN</td>\n",
       "      <td>0.000000</td>\n",
       "    </tr>\n",
       "    <tr>\n",
       "      <th>50%</th>\n",
       "      <td>NaN</td>\n",
       "      <td>2014.000000</td>\n",
       "      <td>3.600000</td>\n",
       "      <td>6.400000</td>\n",
       "      <td>32000.000000</td>\n",
       "      <td>NaN</td>\n",
       "      <td>NaN</td>\n",
       "      <td>NaN</td>\n",
       "      <td>0.000000</td>\n",
       "    </tr>\n",
       "    <tr>\n",
       "      <th>75%</th>\n",
       "      <td>NaN</td>\n",
       "      <td>2016.000000</td>\n",
       "      <td>6.000000</td>\n",
       "      <td>9.900000</td>\n",
       "      <td>48767.000000</td>\n",
       "      <td>NaN</td>\n",
       "      <td>NaN</td>\n",
       "      <td>NaN</td>\n",
       "      <td>0.000000</td>\n",
       "    </tr>\n",
       "    <tr>\n",
       "      <th>max</th>\n",
       "      <td>NaN</td>\n",
       "      <td>2018.000000</td>\n",
       "      <td>35.000000</td>\n",
       "      <td>92.600000</td>\n",
       "      <td>500000.000000</td>\n",
       "      <td>NaN</td>\n",
       "      <td>NaN</td>\n",
       "      <td>NaN</td>\n",
       "      <td>3.000000</td>\n",
       "    </tr>\n",
       "  </tbody>\n",
       "</table>\n",
       "</div>"
      ],
      "text/plain": [
       "       Car_Name         Year  Selling_Price  Present_Price     Kms_Driven  \\\n",
       "count       301   301.000000     301.000000     301.000000     301.000000   \n",
       "unique       98          NaN            NaN            NaN            NaN   \n",
       "top        city          NaN            NaN            NaN            NaN   \n",
       "freq         26          NaN            NaN            NaN            NaN   \n",
       "mean        NaN  2013.627907       4.661296       7.628472   36947.205980   \n",
       "std         NaN     2.891554       5.082812       8.644115   38886.883882   \n",
       "min         NaN  2003.000000       0.100000       0.320000     500.000000   \n",
       "25%         NaN  2012.000000       0.900000       1.200000   15000.000000   \n",
       "50%         NaN  2014.000000       3.600000       6.400000   32000.000000   \n",
       "75%         NaN  2016.000000       6.000000       9.900000   48767.000000   \n",
       "max         NaN  2018.000000      35.000000      92.600000  500000.000000   \n",
       "\n",
       "       Fuel_Type Seller_Type Transmission       Owner  \n",
       "count        301         301          301  301.000000  \n",
       "unique         3           2            2         NaN  \n",
       "top       Petrol      Dealer       Manual         NaN  \n",
       "freq         239         195          261         NaN  \n",
       "mean         NaN         NaN          NaN    0.043189  \n",
       "std          NaN         NaN          NaN    0.247915  \n",
       "min          NaN         NaN          NaN    0.000000  \n",
       "25%          NaN         NaN          NaN    0.000000  \n",
       "50%          NaN         NaN          NaN    0.000000  \n",
       "75%          NaN         NaN          NaN    0.000000  \n",
       "max          NaN         NaN          NaN    3.000000  "
      ]
     },
     "execution_count": 9,
     "metadata": {},
     "output_type": "execute_result"
    }
   ],
   "source": [
    "df.describe(include='all')"
   ]
  },
  {
   "cell_type": "markdown",
   "id": "48d41a55-c72d-4c05-ab56-4f5a5be21766",
   "metadata": {},
   "source": [
    "В среднем, в датасете находятся машины на бензине с механической коробкой передач 2013 года выпуска    \n",
    "с ценой продажи 4.66, которые успели пройти ~37 000 км и были проданы диллером. Также средняя цена таких автомобилей сейчас - 7.63\n",
    "  \n",
    "Большая часть автомобилей до продажи не имела владельцев.  \n",
    "  \n",
    "На первый взгялд, выбросы могут встречаться в столбцах Selling_Price и Present_Price.  "
   ]
  },
  {
   "cell_type": "markdown",
   "id": "37ccb6cd-dabe-4835-9c87-5e20aa89452e",
   "metadata": {},
   "source": [
    "### Описание данных  \n",
    "Признаки:  \n",
    "  \n",
    "- Car_Name – наименование машины  \n",
    "- Year – год выпуска  \n",
    "- Selling_Price – продажная цена  \n",
    "- Present_Price – текущая цена  \n",
    "- Kms_Driven – сколько киллометров было пройденно  \n",
    "- Fuel_Type – тип топлива  \n",
    "- Seller_Type – тип продавца  \n",
    "- Transmission – коробка передач  \n",
    "- Owner – сколько было владельцев  \n",
    "  \n",
    "Целевой признак:  \n",
    "- Selling_Price"
   ]
  },
  {
   "cell_type": "markdown",
   "id": "6635c689-eb37-45b3-bba3-d4b8504a8660",
   "metadata": {},
   "source": [
    "### Предварительная обработка данных"
   ]
  },
  {
   "cell_type": "markdown",
   "id": "9767c231-4376-401b-9686-56af73ed3233",
   "metadata": {},
   "source": [
    "Удаляем ненужный столбец Car_Nmae"
   ]
  },
  {
   "cell_type": "code",
   "execution_count": 10,
   "id": "de09d474-87d3-4289-8214-0d8ee909769f",
   "metadata": {},
   "outputs": [],
   "source": [
    "df.drop('Car_Name', axis=1, inplace=True)"
   ]
  },
  {
   "cell_type": "markdown",
   "id": "796067a7-2b96-4977-97ec-996eab9dffac",
   "metadata": {},
   "source": [
    "Дабы было легче воспринимать информацию о возрасте машины, создадим новый столбец, где укажем, сколько лет машине"
   ]
  },
  {
   "cell_type": "code",
   "execution_count": 11,
   "id": "43ec12f7-d2e7-4a0e-b0e6-3ff6b2c82791",
   "metadata": {},
   "outputs": [],
   "source": [
    "df['Age']=(df['Year'].max()+1)-df['Year']"
   ]
  },
  {
   "cell_type": "markdown",
   "id": "f26e7413-4ea6-4c26-a626-63013ffee86f",
   "metadata": {},
   "source": [
    "Так как теперь у нас есть столбец Age, удаляем столбец Year"
   ]
  },
  {
   "cell_type": "code",
   "execution_count": 12,
   "id": "5459aa45-5905-4513-ae28-67d8eb8cdcb5",
   "metadata": {},
   "outputs": [],
   "source": [
    "df.drop('Year', axis=1, inplace=True)"
   ]
  },
  {
   "cell_type": "code",
   "execution_count": 13,
   "id": "506c8d69-0398-4531-81d5-16fce8791b53",
   "metadata": {},
   "outputs": [
    {
     "data": {
      "text/html": [
       "<div>\n",
       "<style scoped>\n",
       "    .dataframe tbody tr th:only-of-type {\n",
       "        vertical-align: middle;\n",
       "    }\n",
       "\n",
       "    .dataframe tbody tr th {\n",
       "        vertical-align: top;\n",
       "    }\n",
       "\n",
       "    .dataframe thead th {\n",
       "        text-align: right;\n",
       "    }\n",
       "</style>\n",
       "<table border=\"1\" class=\"dataframe\">\n",
       "  <thead>\n",
       "    <tr style=\"text-align: right;\">\n",
       "      <th></th>\n",
       "      <th>Selling_Price</th>\n",
       "      <th>Present_Price</th>\n",
       "      <th>Kms_Driven</th>\n",
       "      <th>Fuel_Type</th>\n",
       "      <th>Seller_Type</th>\n",
       "      <th>Transmission</th>\n",
       "      <th>Owner</th>\n",
       "      <th>Age</th>\n",
       "    </tr>\n",
       "  </thead>\n",
       "  <tbody>\n",
       "    <tr>\n",
       "      <th>0</th>\n",
       "      <td>3.35</td>\n",
       "      <td>5.59</td>\n",
       "      <td>27000</td>\n",
       "      <td>Petrol</td>\n",
       "      <td>Dealer</td>\n",
       "      <td>Manual</td>\n",
       "      <td>0</td>\n",
       "      <td>5</td>\n",
       "    </tr>\n",
       "    <tr>\n",
       "      <th>1</th>\n",
       "      <td>4.75</td>\n",
       "      <td>9.54</td>\n",
       "      <td>43000</td>\n",
       "      <td>Diesel</td>\n",
       "      <td>Dealer</td>\n",
       "      <td>Manual</td>\n",
       "      <td>0</td>\n",
       "      <td>6</td>\n",
       "    </tr>\n",
       "    <tr>\n",
       "      <th>2</th>\n",
       "      <td>7.25</td>\n",
       "      <td>9.85</td>\n",
       "      <td>6900</td>\n",
       "      <td>Petrol</td>\n",
       "      <td>Dealer</td>\n",
       "      <td>Manual</td>\n",
       "      <td>0</td>\n",
       "      <td>2</td>\n",
       "    </tr>\n",
       "    <tr>\n",
       "      <th>3</th>\n",
       "      <td>2.85</td>\n",
       "      <td>4.15</td>\n",
       "      <td>5200</td>\n",
       "      <td>Petrol</td>\n",
       "      <td>Dealer</td>\n",
       "      <td>Manual</td>\n",
       "      <td>0</td>\n",
       "      <td>8</td>\n",
       "    </tr>\n",
       "    <tr>\n",
       "      <th>4</th>\n",
       "      <td>4.60</td>\n",
       "      <td>6.87</td>\n",
       "      <td>42450</td>\n",
       "      <td>Diesel</td>\n",
       "      <td>Dealer</td>\n",
       "      <td>Manual</td>\n",
       "      <td>0</td>\n",
       "      <td>5</td>\n",
       "    </tr>\n",
       "  </tbody>\n",
       "</table>\n",
       "</div>"
      ],
      "text/plain": [
       "   Selling_Price  Present_Price  Kms_Driven Fuel_Type Seller_Type  \\\n",
       "0           3.35           5.59       27000    Petrol      Dealer   \n",
       "1           4.75           9.54       43000    Diesel      Dealer   \n",
       "2           7.25           9.85        6900    Petrol      Dealer   \n",
       "3           2.85           4.15        5200    Petrol      Dealer   \n",
       "4           4.60           6.87       42450    Diesel      Dealer   \n",
       "\n",
       "  Transmission  Owner  Age  \n",
       "0       Manual      0    5  \n",
       "1       Manual      0    6  \n",
       "2       Manual      0    2  \n",
       "3       Manual      0    8  \n",
       "4       Manual      0    5  "
      ]
     },
     "execution_count": 13,
     "metadata": {},
     "output_type": "execute_result"
    }
   ],
   "source": [
    "df.head()"
   ]
  },
  {
   "cell_type": "markdown",
   "id": "3793531e-6ff5-4e37-b858-a9c73a5d0eb6",
   "metadata": {},
   "source": [
    "Убедимся в том, что пропущенный значений точно нет"
   ]
  },
  {
   "cell_type": "code",
   "execution_count": 14,
   "id": "e7356fb7-7439-4c4e-9730-c29e603e1a65",
   "metadata": {},
   "outputs": [
    {
     "data": {
      "text/plain": [
       "Selling_Price    0\n",
       "Present_Price    0\n",
       "Kms_Driven       0\n",
       "Fuel_Type        0\n",
       "Seller_Type      0\n",
       "Transmission     0\n",
       "Owner            0\n",
       "Age              0\n",
       "dtype: int64"
      ]
     },
     "execution_count": 14,
     "metadata": {},
     "output_type": "execute_result"
    }
   ],
   "source": [
    "df.isna().sum()"
   ]
  },
  {
   "cell_type": "markdown",
   "id": "57a09d72-35ed-48b8-9726-c35a2b645f0d",
   "metadata": {},
   "source": [
    "Пропущенных значений нет"
   ]
  },
  {
   "cell_type": "markdown",
   "id": "9a2dc14d-72ce-40a6-ad01-25a365572bf7",
   "metadata": {},
   "source": [
    "Посмотрим, есть ли дубликаты"
   ]
  },
  {
   "cell_type": "code",
   "execution_count": 15,
   "id": "eadf115d-d97a-4531-9d4a-bfe47cf0cebe",
   "metadata": {},
   "outputs": [
    {
     "data": {
      "text/plain": [
       "2"
      ]
     },
     "execution_count": 15,
     "metadata": {},
     "output_type": "execute_result"
    }
   ],
   "source": [
    "df.duplicated().sum()"
   ]
  },
  {
   "cell_type": "markdown",
   "id": "2fddd21f-468a-450b-8e11-3f0a04ff4c23",
   "metadata": {},
   "source": [
    "Имеется 2 дубликата  \n",
    "Выведем их"
   ]
  },
  {
   "cell_type": "code",
   "execution_count": 16,
   "id": "dae646bd-2cde-4f84-a9b1-baf76bc7891b",
   "metadata": {},
   "outputs": [
    {
     "data": {
      "text/html": [
       "<div>\n",
       "<style scoped>\n",
       "    .dataframe tbody tr th:only-of-type {\n",
       "        vertical-align: middle;\n",
       "    }\n",
       "\n",
       "    .dataframe tbody tr th {\n",
       "        vertical-align: top;\n",
       "    }\n",
       "\n",
       "    .dataframe thead th {\n",
       "        text-align: right;\n",
       "    }\n",
       "</style>\n",
       "<table border=\"1\" class=\"dataframe\">\n",
       "  <thead>\n",
       "    <tr style=\"text-align: right;\">\n",
       "      <th></th>\n",
       "      <th>Selling_Price</th>\n",
       "      <th>Present_Price</th>\n",
       "      <th>Kms_Driven</th>\n",
       "      <th>Fuel_Type</th>\n",
       "      <th>Seller_Type</th>\n",
       "      <th>Transmission</th>\n",
       "      <th>Owner</th>\n",
       "      <th>Age</th>\n",
       "    </tr>\n",
       "  </thead>\n",
       "  <tbody>\n",
       "    <tr>\n",
       "      <th>17</th>\n",
       "      <td>7.75</td>\n",
       "      <td>10.79</td>\n",
       "      <td>43000</td>\n",
       "      <td>Diesel</td>\n",
       "      <td>Dealer</td>\n",
       "      <td>Manual</td>\n",
       "      <td>0</td>\n",
       "      <td>3</td>\n",
       "    </tr>\n",
       "    <tr>\n",
       "      <th>93</th>\n",
       "      <td>23.00</td>\n",
       "      <td>30.61</td>\n",
       "      <td>40000</td>\n",
       "      <td>Diesel</td>\n",
       "      <td>Dealer</td>\n",
       "      <td>Automatic</td>\n",
       "      <td>0</td>\n",
       "      <td>4</td>\n",
       "    </tr>\n",
       "  </tbody>\n",
       "</table>\n",
       "</div>"
      ],
      "text/plain": [
       "    Selling_Price  Present_Price  Kms_Driven Fuel_Type Seller_Type  \\\n",
       "17           7.75          10.79       43000    Diesel      Dealer   \n",
       "93          23.00          30.61       40000    Diesel      Dealer   \n",
       "\n",
       "   Transmission  Owner  Age  \n",
       "17       Manual      0    3  \n",
       "93    Automatic      0    4  "
      ]
     },
     "execution_count": 16,
     "metadata": {},
     "output_type": "execute_result"
    }
   ],
   "source": [
    "df[df.duplicated()]"
   ]
  },
  {
   "cell_type": "code",
   "execution_count": 17,
   "id": "14f6e07e-d8c2-414a-b90a-f3de6700c6bf",
   "metadata": {},
   "outputs": [
    {
     "data": {
      "text/html": [
       "<div>\n",
       "<style scoped>\n",
       "    .dataframe tbody tr th:only-of-type {\n",
       "        vertical-align: middle;\n",
       "    }\n",
       "\n",
       "    .dataframe tbody tr th {\n",
       "        vertical-align: top;\n",
       "    }\n",
       "\n",
       "    .dataframe thead th {\n",
       "        text-align: right;\n",
       "    }\n",
       "</style>\n",
       "<table border=\"1\" class=\"dataframe\">\n",
       "  <thead>\n",
       "    <tr style=\"text-align: right;\">\n",
       "      <th></th>\n",
       "      <th>Selling_Price</th>\n",
       "      <th>Present_Price</th>\n",
       "      <th>Kms_Driven</th>\n",
       "      <th>Fuel_Type</th>\n",
       "      <th>Seller_Type</th>\n",
       "      <th>Transmission</th>\n",
       "      <th>Owner</th>\n",
       "      <th>Age</th>\n",
       "    </tr>\n",
       "  </thead>\n",
       "  <tbody>\n",
       "    <tr>\n",
       "      <th>15</th>\n",
       "      <td>7.75</td>\n",
       "      <td>10.79</td>\n",
       "      <td>43000</td>\n",
       "      <td>Diesel</td>\n",
       "      <td>Dealer</td>\n",
       "      <td>Manual</td>\n",
       "      <td>0</td>\n",
       "      <td>3</td>\n",
       "    </tr>\n",
       "    <tr>\n",
       "      <th>51</th>\n",
       "      <td>23.00</td>\n",
       "      <td>30.61</td>\n",
       "      <td>40000</td>\n",
       "      <td>Diesel</td>\n",
       "      <td>Dealer</td>\n",
       "      <td>Automatic</td>\n",
       "      <td>0</td>\n",
       "      <td>4</td>\n",
       "    </tr>\n",
       "  </tbody>\n",
       "</table>\n",
       "</div>"
      ],
      "text/plain": [
       "    Selling_Price  Present_Price  Kms_Driven Fuel_Type Seller_Type  \\\n",
       "15           7.75          10.79       43000    Diesel      Dealer   \n",
       "51          23.00          30.61       40000    Diesel      Dealer   \n",
       "\n",
       "   Transmission  Owner  Age  \n",
       "15       Manual      0    3  \n",
       "51    Automatic      0    4  "
      ]
     },
     "execution_count": 17,
     "metadata": {},
     "output_type": "execute_result"
    }
   ],
   "source": [
    "df[df.duplicated(keep='last')]"
   ]
  },
  {
   "cell_type": "markdown",
   "id": "f81725d4-a901-43c9-ad29-d725d8eebfde",
   "metadata": {},
   "source": [
    "Удалим дубликаты из датасета"
   ]
  },
  {
   "cell_type": "code",
   "execution_count": 18,
   "id": "44d11ab4-8699-44d0-898b-4ec9127b65ed",
   "metadata": {},
   "outputs": [],
   "source": [
    "df.drop_duplicates(inplace=True)"
   ]
  },
  {
   "cell_type": "code",
   "execution_count": 19,
   "id": "77175313-3589-4cdb-ade4-d001b3ec7fc7",
   "metadata": {},
   "outputs": [
    {
     "data": {
      "text/plain": [
       "(299, 8)"
      ]
     },
     "execution_count": 19,
     "metadata": {},
     "output_type": "execute_result"
    }
   ],
   "source": [
    "df.shape"
   ]
  },
  {
   "cell_type": "markdown",
   "id": "8ca35150-721e-4e8e-9c26-ce65428ca529",
   "metadata": {},
   "source": [
    "Дубликаты успешно удалены"
   ]
  },
  {
   "cell_type": "markdown",
   "id": "0f642a13-2a82-455a-99d6-4b18e7c9856b",
   "metadata": {},
   "source": [
    "### Разведочный анализ данных (EDA)"
   ]
  },
  {
   "cell_type": "markdown",
   "id": "0d56400c-57be-412d-881e-e9b8c50fdf71",
   "metadata": {},
   "source": [
    "Разделим датасет на 2 разных: первый будет включать все признаки типа object, а второй все признаки типа float64 и int64"
   ]
  },
  {
   "cell_type": "code",
   "execution_count": 20,
   "id": "8e6a9ecc-a83b-483f-855d-3d2fce8b899a",
   "metadata": {},
   "outputs": [],
   "source": [
    "df_cat = df.select_dtypes(['object'])\n",
    "df_num = df.select_dtypes(['int64','float64'])"
   ]
  },
  {
   "cell_type": "markdown",
   "id": "8d166767-36e9-4b97-88bd-12e19d81e96e",
   "metadata": {},
   "source": [
    "Сначала проанализируем первый датасет"
   ]
  },
  {
   "cell_type": "code",
   "execution_count": 21,
   "id": "dc645383-31d9-4a5c-bded-5a8aa0415788",
   "metadata": {},
   "outputs": [
    {
     "data": {
      "text/html": [
       "<div>\n",
       "<style scoped>\n",
       "    .dataframe tbody tr th:only-of-type {\n",
       "        vertical-align: middle;\n",
       "    }\n",
       "\n",
       "    .dataframe tbody tr th {\n",
       "        vertical-align: top;\n",
       "    }\n",
       "\n",
       "    .dataframe thead th {\n",
       "        text-align: right;\n",
       "    }\n",
       "</style>\n",
       "<table border=\"1\" class=\"dataframe\">\n",
       "  <thead>\n",
       "    <tr style=\"text-align: right;\">\n",
       "      <th></th>\n",
       "      <th>Fuel_Type</th>\n",
       "      <th>Seller_Type</th>\n",
       "      <th>Transmission</th>\n",
       "    </tr>\n",
       "  </thead>\n",
       "  <tbody>\n",
       "    <tr>\n",
       "      <th>0</th>\n",
       "      <td>Petrol</td>\n",
       "      <td>Dealer</td>\n",
       "      <td>Manual</td>\n",
       "    </tr>\n",
       "    <tr>\n",
       "      <th>1</th>\n",
       "      <td>Diesel</td>\n",
       "      <td>Dealer</td>\n",
       "      <td>Manual</td>\n",
       "    </tr>\n",
       "    <tr>\n",
       "      <th>2</th>\n",
       "      <td>Petrol</td>\n",
       "      <td>Dealer</td>\n",
       "      <td>Manual</td>\n",
       "    </tr>\n",
       "    <tr>\n",
       "      <th>3</th>\n",
       "      <td>Petrol</td>\n",
       "      <td>Dealer</td>\n",
       "      <td>Manual</td>\n",
       "    </tr>\n",
       "    <tr>\n",
       "      <th>4</th>\n",
       "      <td>Diesel</td>\n",
       "      <td>Dealer</td>\n",
       "      <td>Manual</td>\n",
       "    </tr>\n",
       "    <tr>\n",
       "      <th>...</th>\n",
       "      <td>...</td>\n",
       "      <td>...</td>\n",
       "      <td>...</td>\n",
       "    </tr>\n",
       "    <tr>\n",
       "      <th>296</th>\n",
       "      <td>Diesel</td>\n",
       "      <td>Dealer</td>\n",
       "      <td>Manual</td>\n",
       "    </tr>\n",
       "    <tr>\n",
       "      <th>297</th>\n",
       "      <td>Petrol</td>\n",
       "      <td>Dealer</td>\n",
       "      <td>Manual</td>\n",
       "    </tr>\n",
       "    <tr>\n",
       "      <th>298</th>\n",
       "      <td>Petrol</td>\n",
       "      <td>Dealer</td>\n",
       "      <td>Manual</td>\n",
       "    </tr>\n",
       "    <tr>\n",
       "      <th>299</th>\n",
       "      <td>Diesel</td>\n",
       "      <td>Dealer</td>\n",
       "      <td>Manual</td>\n",
       "    </tr>\n",
       "    <tr>\n",
       "      <th>300</th>\n",
       "      <td>Petrol</td>\n",
       "      <td>Dealer</td>\n",
       "      <td>Manual</td>\n",
       "    </tr>\n",
       "  </tbody>\n",
       "</table>\n",
       "<p>299 rows × 3 columns</p>\n",
       "</div>"
      ],
      "text/plain": [
       "    Fuel_Type Seller_Type Transmission\n",
       "0      Petrol      Dealer       Manual\n",
       "1      Diesel      Dealer       Manual\n",
       "2      Petrol      Dealer       Manual\n",
       "3      Petrol      Dealer       Manual\n",
       "4      Diesel      Dealer       Manual\n",
       "..        ...         ...          ...\n",
       "296    Diesel      Dealer       Manual\n",
       "297    Petrol      Dealer       Manual\n",
       "298    Petrol      Dealer       Manual\n",
       "299    Diesel      Dealer       Manual\n",
       "300    Petrol      Dealer       Manual\n",
       "\n",
       "[299 rows x 3 columns]"
      ]
     },
     "execution_count": 21,
     "metadata": {},
     "output_type": "execute_result"
    }
   ],
   "source": [
    "df_cat"
   ]
  },
  {
   "cell_type": "markdown",
   "id": "f147a570-8d49-4035-b50a-63c623a7a550",
   "metadata": {},
   "source": [
    "Для всех столбцов построим countplot, чтобы посмотреть какие значения встречаются и в каком количестве  \n",
    "Также посмотрим на описательную статистику датасета  "
   ]
  },
  {
   "cell_type": "code",
   "execution_count": 22,
   "id": "97741654-c71a-4ce9-9dd4-2a18e4903777",
   "metadata": {},
   "outputs": [
    {
     "name": "stdout",
     "output_type": "stream",
     "text": [
      "Fuel_Type\n",
      "Petrol    239\n",
      "Diesel     58\n",
      "CNG         2\n",
      "Name: count, dtype: int64\n"
     ]
    },
    {
     "data": {
      "image/png": "[encoded data removed]",
      "text/plain": [
       "<Figure size 640x480 with 1 Axes>"
      ]
     },
     "metadata": {},
     "output_type": "display_data"
    },
    {
     "name": "stdout",
     "output_type": "stream",
     "text": [
      "Seller_Type\n",
      "Dealer        193\n",
      "Individual    106\n",
      "Name: count, dtype: int64\n"
     ]
    },
    {
     "data": {
      "image/png": "[encoded data removed]",
      "text/plain": [
       "<Figure size 640x480 with 1 Axes>"
      ]
     },
     "metadata": {},
     "output_type": "display_data"
    },
    {
     "name": "stdout",
     "output_type": "stream",
     "text": [
      "Transmission\n",
      "Manual       260\n",
      "Automatic     39\n",
      "Name: count, dtype: int64\n"
     ]
    },
    {
     "data": {
      "image/png": "[encoded data removed]",
      "text/plain": [
       "<Figure size 640x480 with 1 Axes>"
      ]
     },
     "metadata": {},
     "output_type": "display_data"
    }
   ],
   "source": [
    "for cat in df_cat:\n",
    "    print(df[cat].value_counts())\n",
    "    sns.countplot(x=cat, data=df)\n",
    "    plt.show()"
   ]
  },
  {
   "cell_type": "code",
   "execution_count": 23,
   "id": "b239f839-d912-41f3-9e68-c00b621a4c3c",
   "metadata": {},
   "outputs": [
    {
     "data": {
      "text/html": [
       "<div>\n",
       "<style scoped>\n",
       "    .dataframe tbody tr th:only-of-type {\n",
       "        vertical-align: middle;\n",
       "    }\n",
       "\n",
       "    .dataframe tbody tr th {\n",
       "        vertical-align: top;\n",
       "    }\n",
       "\n",
       "    .dataframe thead th {\n",
       "        text-align: right;\n",
       "    }\n",
       "</style>\n",
       "<table border=\"1\" class=\"dataframe\">\n",
       "  <thead>\n",
       "    <tr style=\"text-align: right;\">\n",
       "      <th></th>\n",
       "      <th>Fuel_Type</th>\n",
       "      <th>Seller_Type</th>\n",
       "      <th>Transmission</th>\n",
       "    </tr>\n",
       "  </thead>\n",
       "  <tbody>\n",
       "    <tr>\n",
       "      <th>count</th>\n",
       "      <td>299</td>\n",
       "      <td>299</td>\n",
       "      <td>299</td>\n",
       "    </tr>\n",
       "    <tr>\n",
       "      <th>unique</th>\n",
       "      <td>3</td>\n",
       "      <td>2</td>\n",
       "      <td>2</td>\n",
       "    </tr>\n",
       "    <tr>\n",
       "      <th>top</th>\n",
       "      <td>Petrol</td>\n",
       "      <td>Dealer</td>\n",
       "      <td>Manual</td>\n",
       "    </tr>\n",
       "    <tr>\n",
       "      <th>freq</th>\n",
       "      <td>239</td>\n",
       "      <td>193</td>\n",
       "      <td>260</td>\n",
       "    </tr>\n",
       "  </tbody>\n",
       "</table>\n",
       "</div>"
      ],
      "text/plain": [
       "       Fuel_Type Seller_Type Transmission\n",
       "count        299         299          299\n",
       "unique         3           2            2\n",
       "top       Petrol      Dealer       Manual\n",
       "freq         239         193          260"
      ]
     },
     "execution_count": 23,
     "metadata": {},
     "output_type": "execute_result"
    }
   ],
   "source": [
    "df_cat.describe()"
   ]
  },
  {
   "cell_type": "markdown",
   "id": "f475dded-939b-41f7-bae6-afcf72015fea",
   "metadata": {},
   "source": [
    "Можно заметить, что большинство машин потребляет бензин, а меньше всего, всего 2 автомобиля - сжатый метан.    \n",
    "Чаще всего машины продают оффициальные диллеры, реже - частные лица.  \n",
    "Очень много машин с механической коробкой передач."
   ]
  },
  {
   "cell_type": "markdown",
   "id": "590e0746-397c-4740-9e28-657b8dc899c3",
   "metadata": {},
   "source": [
    "Дальше проанализируем второй датасет"
   ]
  },
  {
   "cell_type": "code",
   "execution_count": 24,
   "id": "3cb6f2b4-d48f-44fd-9c82-bf2a45a3a332",
   "metadata": {},
   "outputs": [
    {
     "data": {
      "text/html": [
       "<div>\n",
       "<style scoped>\n",
       "    .dataframe tbody tr th:only-of-type {\n",
       "        vertical-align: middle;\n",
       "    }\n",
       "\n",
       "    .dataframe tbody tr th {\n",
       "        vertical-align: top;\n",
       "    }\n",
       "\n",
       "    .dataframe thead th {\n",
       "        text-align: right;\n",
       "    }\n",
       "</style>\n",
       "<table border=\"1\" class=\"dataframe\">\n",
       "  <thead>\n",
       "    <tr style=\"text-align: right;\">\n",
       "      <th></th>\n",
       "      <th>Selling_Price</th>\n",
       "      <th>Present_Price</th>\n",
       "      <th>Kms_Driven</th>\n",
       "      <th>Owner</th>\n",
       "      <th>Age</th>\n",
       "    </tr>\n",
       "  </thead>\n",
       "  <tbody>\n",
       "    <tr>\n",
       "      <th>count</th>\n",
       "      <td>299.000000</td>\n",
       "      <td>299.000000</td>\n",
       "      <td>299.000000</td>\n",
       "      <td>299.000000</td>\n",
       "      <td>299.000000</td>\n",
       "    </tr>\n",
       "    <tr>\n",
       "      <th>mean</th>\n",
       "      <td>4.589632</td>\n",
       "      <td>7.541037</td>\n",
       "      <td>36916.752508</td>\n",
       "      <td>0.043478</td>\n",
       "      <td>5.384615</td>\n",
       "    </tr>\n",
       "    <tr>\n",
       "      <th>std</th>\n",
       "      <td>4.984240</td>\n",
       "      <td>8.567887</td>\n",
       "      <td>39015.170352</td>\n",
       "      <td>0.248720</td>\n",
       "      <td>2.896868</td>\n",
       "    </tr>\n",
       "    <tr>\n",
       "      <th>min</th>\n",
       "      <td>0.100000</td>\n",
       "      <td>0.320000</td>\n",
       "      <td>500.000000</td>\n",
       "      <td>0.000000</td>\n",
       "      <td>1.000000</td>\n",
       "    </tr>\n",
       "    <tr>\n",
       "      <th>25%</th>\n",
       "      <td>0.850000</td>\n",
       "      <td>1.200000</td>\n",
       "      <td>15000.000000</td>\n",
       "      <td>0.000000</td>\n",
       "      <td>3.000000</td>\n",
       "    </tr>\n",
       "    <tr>\n",
       "      <th>50%</th>\n",
       "      <td>3.510000</td>\n",
       "      <td>6.100000</td>\n",
       "      <td>32000.000000</td>\n",
       "      <td>0.000000</td>\n",
       "      <td>5.000000</td>\n",
       "    </tr>\n",
       "    <tr>\n",
       "      <th>75%</th>\n",
       "      <td>6.000000</td>\n",
       "      <td>9.840000</td>\n",
       "      <td>48883.500000</td>\n",
       "      <td>0.000000</td>\n",
       "      <td>7.000000</td>\n",
       "    </tr>\n",
       "    <tr>\n",
       "      <th>max</th>\n",
       "      <td>35.000000</td>\n",
       "      <td>92.600000</td>\n",
       "      <td>500000.000000</td>\n",
       "      <td>3.000000</td>\n",
       "      <td>16.000000</td>\n",
       "    </tr>\n",
       "  </tbody>\n",
       "</table>\n",
       "</div>"
      ],
      "text/plain": [
       "       Selling_Price  Present_Price     Kms_Driven       Owner         Age\n",
       "count     299.000000     299.000000     299.000000  299.000000  299.000000\n",
       "mean        4.589632       7.541037   36916.752508    0.043478    5.384615\n",
       "std         4.984240       8.567887   39015.170352    0.248720    2.896868\n",
       "min         0.100000       0.320000     500.000000    0.000000    1.000000\n",
       "25%         0.850000       1.200000   15000.000000    0.000000    3.000000\n",
       "50%         3.510000       6.100000   32000.000000    0.000000    5.000000\n",
       "75%         6.000000       9.840000   48883.500000    0.000000    7.000000\n",
       "max        35.000000      92.600000  500000.000000    3.000000   16.000000"
      ]
     },
     "execution_count": 24,
     "metadata": {},
     "output_type": "execute_result"
    }
   ],
   "source": [
    "df_num.describe()"
   ]
  },
  {
   "cell_type": "markdown",
   "id": "1d49ea6b-a55a-42ff-b279-af454ce9f834",
   "metadata": {},
   "source": [
    "Как уже ранее говорилось в среднем, в датасете находятся машины возрастом в 5 лет  \n",
    "с ценой продажи 4.59, которые успели пройти ~37 000 км и которые сейчас стоят 7.54"
   ]
  },
  {
   "cell_type": "markdown",
   "id": "c494c5cf-fe72-4ef0-9f3b-fce0c70dac2b",
   "metadata": {},
   "source": [
    "Взглянем на нормальность распределения числовых признаков"
   ]
  },
  {
   "cell_type": "code",
   "execution_count": 25,
   "id": "d579285e-110a-4614-9234-c82685a86c28",
   "metadata": {},
   "outputs": [
    {
     "data": {
      "image/png": "[encoded data removed]",
      "text/plain": [
       "<Figure size 1500x1000 with 6 Axes>"
      ]
     },
     "metadata": {},
     "output_type": "display_data"
    }
   ],
   "source": [
    "df.hist(figsize = (15,10), bins = 30);"
   ]
  },
  {
   "cell_type": "markdown",
   "id": "977c61aa-2bc3-4931-af3d-392a869e430f",
   "metadata": {},
   "source": [
    "Признаки не имеют нормального распределения  \n",
    "Также можно заметить, что в признаке Kms_Driven есть маленькая доля значений на отметке в 500000  \n",
    "Такое же можно и заметить и в признаке Present_Price, но на значении в 80, что, возможно, подтверждает наличие выбросов в датасете"
   ]
  },
  {
   "cell_type": "markdown",
   "id": "e209ef78-53e5-4f1f-a400-2168e73ca6b0",
   "metadata": {},
   "source": [
    "Взглянем на корреляцию в датасете"
   ]
  },
  {
   "cell_type": "code",
   "execution_count": 26,
   "id": "8de467ea-003d-4389-80ee-318dda25f162",
   "metadata": {},
   "outputs": [
    {
     "data": {
      "text/plain": [
       "<seaborn.axisgrid.PairGrid at 0x1bea4571370>"
      ]
     },
     "execution_count": 26,
     "metadata": {},
     "output_type": "execute_result"
    },
    {
     "data": {
      "text/plain": [
       "<Figure size 800x600 with 0 Axes>"
      ]
     },
     "metadata": {},
     "output_type": "display_data"
    },
    {
     "data": {
      "image/png": "[encoded data removed]",
      "text/plain": [
       "<Figure size 1250x1250 with 30 Axes>"
      ]
     },
     "metadata": {},
     "output_type": "display_data"
    }
   ],
   "source": [
    "plt.figure(figsize=(8,6))\n",
    "sns.pairplot(df)"
   ]
  },
  {
   "cell_type": "code",
   "execution_count": 27,
   "id": "dc9c7954-4a26-447a-9d6f-01b13e074db0",
   "metadata": {},
   "outputs": [
    {
     "data": {
      "text/plain": [
       "<Axes: >"
      ]
     },
     "execution_count": 27,
     "metadata": {},
     "output_type": "execute_result"
    },
    {
     "data": {
      "image/png": "[encoded data removed]",
      "text/plain": [
       "<Figure size 640x480 with 2 Axes>"
      ]
     },
     "metadata": {},
     "output_type": "display_data"
    }
   ],
   "source": [
    "sns.heatmap(df_num.corr(), annot=True, cmap='Reds')"
   ]
  },
  {
   "cell_type": "markdown",
   "id": "e235f35b-66bd-4367-8d26-6e54bb1ab631",
   "metadata": {},
   "source": [
    "Есть сильная корреляция между ценой продажи и текущей ценой автомобиля, что довольно логично  \n",
    "Также можно заметить ещё одну очевидную зависимость - между пройденными киллометрами и возрастом автомобиля"
   ]
  },
  {
   "cell_type": "markdown",
   "id": "09e4a9eb-786e-41a3-b549-84dfca055f8e",
   "metadata": {},
   "source": [
    "Теперь поработаем с выбросами  \n",
    "Так как на графиках было видно, что в признаках Present_Price и Kms_Driven есть возможные выбросы, проверем именно их  \n",
    "Выведем все машины, цена которых сейчас больше 40"
   ]
  },
  {
   "cell_type": "code",
   "execution_count": 28,
   "id": "761dafbc-c3b7-4e90-b6fd-c684ea28f6df",
   "metadata": {},
   "outputs": [
    {
     "data": {
      "text/html": [
       "<div>\n",
       "<style scoped>\n",
       "    .dataframe tbody tr th:only-of-type {\n",
       "        vertical-align: middle;\n",
       "    }\n",
       "\n",
       "    .dataframe tbody tr th {\n",
       "        vertical-align: top;\n",
       "    }\n",
       "\n",
       "    .dataframe thead th {\n",
       "        text-align: right;\n",
       "    }\n",
       "</style>\n",
       "<table border=\"1\" class=\"dataframe\">\n",
       "  <thead>\n",
       "    <tr style=\"text-align: right;\">\n",
       "      <th></th>\n",
       "      <th>Selling_Price</th>\n",
       "      <th>Present_Price</th>\n",
       "      <th>Kms_Driven</th>\n",
       "      <th>Fuel_Type</th>\n",
       "      <th>Seller_Type</th>\n",
       "      <th>Transmission</th>\n",
       "      <th>Owner</th>\n",
       "      <th>Age</th>\n",
       "    </tr>\n",
       "  </thead>\n",
       "  <tbody>\n",
       "    <tr>\n",
       "      <th>86</th>\n",
       "      <td>35.0</td>\n",
       "      <td>92.6</td>\n",
       "      <td>78000</td>\n",
       "      <td>Diesel</td>\n",
       "      <td>Dealer</td>\n",
       "      <td>Manual</td>\n",
       "      <td>0</td>\n",
       "      <td>9</td>\n",
       "    </tr>\n",
       "  </tbody>\n",
       "</table>\n",
       "</div>"
      ],
      "text/plain": [
       "    Selling_Price  Present_Price  Kms_Driven Fuel_Type Seller_Type  \\\n",
       "86           35.0           92.6       78000    Diesel      Dealer   \n",
       "\n",
       "   Transmission  Owner  Age  \n",
       "86       Manual      0    9  "
      ]
     },
     "execution_count": 28,
     "metadata": {},
     "output_type": "execute_result"
    }
   ],
   "source": [
    "(df[(df['Present_Price']>40)])"
   ]
  },
  {
   "cell_type": "markdown",
   "id": "c1e153fe-bac1-4947-baa0-26bb0b01b42b",
   "metadata": {},
   "source": [
    "Всего одна запись.  \n",
    "Автомобиль продавался за 35, а сейчас его цена 92.6, а возраст 9 лет.  \n",
    "Возможно это редкий автомобиль, но так как запись всего одна, её можно будет удалить."
   ]
  },
  {
   "cell_type": "markdown",
   "id": "0b055711-0a62-4fbd-905f-0dbedadfdbe2",
   "metadata": {},
   "source": [
    "Посмотрим на автомибили, пробег которых больше 250 000 км"
   ]
  },
  {
   "cell_type": "code",
   "execution_count": 29,
   "id": "a438399d-763b-4171-9e18-1f8869d8f59e",
   "metadata": {},
   "outputs": [
    {
     "data": {
      "text/html": [
       "<div>\n",
       "<style scoped>\n",
       "    .dataframe tbody tr th:only-of-type {\n",
       "        vertical-align: middle;\n",
       "    }\n",
       "\n",
       "    .dataframe tbody tr th {\n",
       "        vertical-align: top;\n",
       "    }\n",
       "\n",
       "    .dataframe thead th {\n",
       "        text-align: right;\n",
       "    }\n",
       "</style>\n",
       "<table border=\"1\" class=\"dataframe\">\n",
       "  <thead>\n",
       "    <tr style=\"text-align: right;\">\n",
       "      <th></th>\n",
       "      <th>Selling_Price</th>\n",
       "      <th>Present_Price</th>\n",
       "      <th>Kms_Driven</th>\n",
       "      <th>Fuel_Type</th>\n",
       "      <th>Seller_Type</th>\n",
       "      <th>Transmission</th>\n",
       "      <th>Owner</th>\n",
       "      <th>Age</th>\n",
       "    </tr>\n",
       "  </thead>\n",
       "  <tbody>\n",
       "    <tr>\n",
       "      <th>196</th>\n",
       "      <td>0.17</td>\n",
       "      <td>0.52</td>\n",
       "      <td>500000</td>\n",
       "      <td>Petrol</td>\n",
       "      <td>Individual</td>\n",
       "      <td>Automatic</td>\n",
       "      <td>0</td>\n",
       "      <td>11</td>\n",
       "    </tr>\n",
       "  </tbody>\n",
       "</table>\n",
       "</div>"
      ],
      "text/plain": [
       "     Selling_Price  Present_Price  Kms_Driven Fuel_Type Seller_Type  \\\n",
       "196           0.17           0.52      500000    Petrol  Individual   \n",
       "\n",
       "    Transmission  Owner  Age  \n",
       "196    Automatic      0   11  "
      ]
     },
     "execution_count": 29,
     "metadata": {},
     "output_type": "execute_result"
    }
   ],
   "source": [
    "(df[(df['Kms_Driven']>250000)])"
   ]
  },
  {
   "cell_type": "markdown",
   "id": "7b00e98f-aef8-46c3-9401-6241cbfd0d28",
   "metadata": {},
   "source": [
    "Снова всего одна запись.  \n",
    "Как видно, пробег автомобиля - 500 000 км.  \n",
    "Однако возраст 11 лет, так что такой пробег вполне возможен, но так как запись всего одна, её можно будет удалить."
   ]
  },
  {
   "cell_type": "markdown",
   "id": "61e5b96a-4e50-494b-aa74-7eed25f7b7a5",
   "metadata": {},
   "source": [
    "Удаляем эти записи по индексу"
   ]
  },
  {
   "cell_type": "code",
   "execution_count": 30,
   "id": "5f0d479c-4c05-4891-b907-de5541d0fb0a",
   "metadata": {},
   "outputs": [],
   "source": [
    "df.drop(index=[85,194],inplace=True)\n",
    "df = df.reset_index(drop=True)"
   ]
  },
  {
   "cell_type": "code",
   "execution_count": 31,
   "id": "c325ba91-3136-4921-9968-265fd24fe5cd",
   "metadata": {},
   "outputs": [
    {
     "data": {
      "text/plain": [
       "(297, 8)"
      ]
     },
     "execution_count": 31,
     "metadata": {},
     "output_type": "execute_result"
    }
   ],
   "source": [
    "df.shape"
   ]
  },
  {
   "cell_type": "markdown",
   "id": "c6f26f6a-d484-4f7b-8cbe-a5dc2730ba03",
   "metadata": {},
   "source": [
    "Удаление прошло успешно"
   ]
  },
  {
   "cell_type": "markdown",
   "id": "c78a315d-f943-4926-a513-81665f1867d9",
   "metadata": {},
   "source": [
    "Посмотрим на то, как поменялась общая картина"
   ]
  },
  {
   "cell_type": "code",
   "execution_count": 32,
   "id": "0ce74301-73ba-41b2-98cf-fa8ac7bccef7",
   "metadata": {},
   "outputs": [
    {
     "data": {
      "image/png": "[encoded data removed]",
      "text/plain": [
       "<Figure size 1500x1000 with 6 Axes>"
      ]
     },
     "metadata": {},
     "output_type": "display_data"
    }
   ],
   "source": [
    "df.hist(figsize = (15,10), bins = 30);"
   ]
  },
  {
   "cell_type": "markdown",
   "id": "1096f02d-1310-41c8-873c-cbb27f1c2f7f",
   "metadata": {},
   "source": [
    "В принципе, никак"
   ]
  },
  {
   "cell_type": "markdown",
   "id": "0d5fd17e-8e9e-4049-8071-d555c0d7c883",
   "metadata": {},
   "source": [
    "Преобразуем бинарные признаки и Fuel_Type в числовые значения, чтобы посмотреть на корреляцию между всеми признаками"
   ]
  },
  {
   "cell_type": "code",
   "execution_count": 33,
   "id": "c078347d-aede-48a4-9db4-7d590c77bbbe",
   "metadata": {},
   "outputs": [
    {
     "data": {
      "text/html": [
       "<div>\n",
       "<style scoped>\n",
       "    .dataframe tbody tr th:only-of-type {\n",
       "        vertical-align: middle;\n",
       "    }\n",
       "\n",
       "    .dataframe tbody tr th {\n",
       "        vertical-align: top;\n",
       "    }\n",
       "\n",
       "    .dataframe thead th {\n",
       "        text-align: right;\n",
       "    }\n",
       "</style>\n",
       "<table border=\"1\" class=\"dataframe\">\n",
       "  <thead>\n",
       "    <tr style=\"text-align: right;\">\n",
       "      <th></th>\n",
       "      <th>Selling_Price</th>\n",
       "      <th>Present_Price</th>\n",
       "      <th>Kms_Driven</th>\n",
       "      <th>Owner</th>\n",
       "      <th>Age</th>\n",
       "      <th>Fuel_Type_Diesel</th>\n",
       "      <th>Fuel_Type_Petrol</th>\n",
       "      <th>Seller_Type_Individual</th>\n",
       "      <th>Transmission_Manual</th>\n",
       "    </tr>\n",
       "  </thead>\n",
       "  <tbody>\n",
       "    <tr>\n",
       "      <th>0</th>\n",
       "      <td>3.35</td>\n",
       "      <td>5.59</td>\n",
       "      <td>27000</td>\n",
       "      <td>0</td>\n",
       "      <td>5</td>\n",
       "      <td>0</td>\n",
       "      <td>1</td>\n",
       "      <td>0</td>\n",
       "      <td>1</td>\n",
       "    </tr>\n",
       "    <tr>\n",
       "      <th>1</th>\n",
       "      <td>4.75</td>\n",
       "      <td>9.54</td>\n",
       "      <td>43000</td>\n",
       "      <td>0</td>\n",
       "      <td>6</td>\n",
       "      <td>1</td>\n",
       "      <td>0</td>\n",
       "      <td>0</td>\n",
       "      <td>1</td>\n",
       "    </tr>\n",
       "    <tr>\n",
       "      <th>2</th>\n",
       "      <td>7.25</td>\n",
       "      <td>9.85</td>\n",
       "      <td>6900</td>\n",
       "      <td>0</td>\n",
       "      <td>2</td>\n",
       "      <td>0</td>\n",
       "      <td>1</td>\n",
       "      <td>0</td>\n",
       "      <td>1</td>\n",
       "    </tr>\n",
       "    <tr>\n",
       "      <th>3</th>\n",
       "      <td>2.85</td>\n",
       "      <td>4.15</td>\n",
       "      <td>5200</td>\n",
       "      <td>0</td>\n",
       "      <td>8</td>\n",
       "      <td>0</td>\n",
       "      <td>1</td>\n",
       "      <td>0</td>\n",
       "      <td>1</td>\n",
       "    </tr>\n",
       "    <tr>\n",
       "      <th>4</th>\n",
       "      <td>4.60</td>\n",
       "      <td>6.87</td>\n",
       "      <td>42450</td>\n",
       "      <td>0</td>\n",
       "      <td>5</td>\n",
       "      <td>1</td>\n",
       "      <td>0</td>\n",
       "      <td>0</td>\n",
       "      <td>1</td>\n",
       "    </tr>\n",
       "    <tr>\n",
       "      <th>...</th>\n",
       "      <td>...</td>\n",
       "      <td>...</td>\n",
       "      <td>...</td>\n",
       "      <td>...</td>\n",
       "      <td>...</td>\n",
       "      <td>...</td>\n",
       "      <td>...</td>\n",
       "      <td>...</td>\n",
       "      <td>...</td>\n",
       "    </tr>\n",
       "    <tr>\n",
       "      <th>292</th>\n",
       "      <td>9.50</td>\n",
       "      <td>11.60</td>\n",
       "      <td>33988</td>\n",
       "      <td>0</td>\n",
       "      <td>3</td>\n",
       "      <td>1</td>\n",
       "      <td>0</td>\n",
       "      <td>0</td>\n",
       "      <td>1</td>\n",
       "    </tr>\n",
       "    <tr>\n",
       "      <th>293</th>\n",
       "      <td>4.00</td>\n",
       "      <td>5.90</td>\n",
       "      <td>60000</td>\n",
       "      <td>0</td>\n",
       "      <td>4</td>\n",
       "      <td>0</td>\n",
       "      <td>1</td>\n",
       "      <td>0</td>\n",
       "      <td>1</td>\n",
       "    </tr>\n",
       "    <tr>\n",
       "      <th>294</th>\n",
       "      <td>3.35</td>\n",
       "      <td>11.00</td>\n",
       "      <td>87934</td>\n",
       "      <td>0</td>\n",
       "      <td>10</td>\n",
       "      <td>0</td>\n",
       "      <td>1</td>\n",
       "      <td>0</td>\n",
       "      <td>1</td>\n",
       "    </tr>\n",
       "    <tr>\n",
       "      <th>295</th>\n",
       "      <td>11.50</td>\n",
       "      <td>12.50</td>\n",
       "      <td>9000</td>\n",
       "      <td>0</td>\n",
       "      <td>2</td>\n",
       "      <td>1</td>\n",
       "      <td>0</td>\n",
       "      <td>0</td>\n",
       "      <td>1</td>\n",
       "    </tr>\n",
       "    <tr>\n",
       "      <th>296</th>\n",
       "      <td>5.30</td>\n",
       "      <td>5.90</td>\n",
       "      <td>5464</td>\n",
       "      <td>0</td>\n",
       "      <td>3</td>\n",
       "      <td>0</td>\n",
       "      <td>1</td>\n",
       "      <td>0</td>\n",
       "      <td>1</td>\n",
       "    </tr>\n",
       "  </tbody>\n",
       "</table>\n",
       "<p>297 rows × 9 columns</p>\n",
       "</div>"
      ],
      "text/plain": [
       "     Selling_Price  Present_Price  Kms_Driven  Owner  Age  Fuel_Type_Diesel  \\\n",
       "0             3.35           5.59       27000      0    5                 0   \n",
       "1             4.75           9.54       43000      0    6                 1   \n",
       "2             7.25           9.85        6900      0    2                 0   \n",
       "3             2.85           4.15        5200      0    8                 0   \n",
       "4             4.60           6.87       42450      0    5                 1   \n",
       "..             ...            ...         ...    ...  ...               ...   \n",
       "292           9.50          11.60       33988      0    3                 1   \n",
       "293           4.00           5.90       60000      0    4                 0   \n",
       "294           3.35          11.00       87934      0   10                 0   \n",
       "295          11.50          12.50        9000      0    2                 1   \n",
       "296           5.30           5.90        5464      0    3                 0   \n",
       "\n",
       "     Fuel_Type_Petrol  Seller_Type_Individual  Transmission_Manual  \n",
       "0                   1                       0                    1  \n",
       "1                   0                       0                    1  \n",
       "2                   1                       0                    1  \n",
       "3                   1                       0                    1  \n",
       "4                   0                       0                    1  \n",
       "..                ...                     ...                  ...  \n",
       "292                 0                       0                    1  \n",
       "293                 1                       0                    1  \n",
       "294                 1                       0                    1  \n",
       "295                 0                       0                    1  \n",
       "296                 1                       0                    1  \n",
       "\n",
       "[297 rows x 9 columns]"
      ]
     },
     "execution_count": 33,
     "metadata": {},
     "output_type": "execute_result"
    }
   ],
   "source": [
    "df1=pd.get_dummies(df,columns=['Fuel_Type','Seller_Type','Transmission'],drop_first=True, dtype=int)\n",
    "df1"
   ]
  },
  {
   "cell_type": "code",
   "execution_count": 34,
   "id": "6f018127-1b00-4a7e-b759-a0ec465d629d",
   "metadata": {},
   "outputs": [
    {
     "data": {
      "text/html": [
       "<div>\n",
       "<style scoped>\n",
       "    .dataframe tbody tr th:only-of-type {\n",
       "        vertical-align: middle;\n",
       "    }\n",
       "\n",
       "    .dataframe tbody tr th {\n",
       "        vertical-align: top;\n",
       "    }\n",
       "\n",
       "    .dataframe thead th {\n",
       "        text-align: right;\n",
       "    }\n",
       "</style>\n",
       "<table border=\"1\" class=\"dataframe\">\n",
       "  <thead>\n",
       "    <tr style=\"text-align: right;\">\n",
       "      <th></th>\n",
       "      <th>Selling_Price</th>\n",
       "      <th>Present_Price</th>\n",
       "      <th>Kms_Driven</th>\n",
       "      <th>Owner</th>\n",
       "      <th>Age</th>\n",
       "      <th>Fuel_Type_Diesel</th>\n",
       "      <th>Fuel_Type_Petrol</th>\n",
       "      <th>Seller_Type_Individual</th>\n",
       "      <th>Transmission_Manual</th>\n",
       "    </tr>\n",
       "  </thead>\n",
       "  <tbody>\n",
       "    <tr>\n",
       "      <th>Selling_Price</th>\n",
       "      <td>1.000000</td>\n",
       "      <td>0.884382</td>\n",
       "      <td>0.033867</td>\n",
       "      <td>-0.098917</td>\n",
       "      <td>-0.229408</td>\n",
       "      <td>0.542701</td>\n",
       "      <td>-0.530741</td>\n",
       "      <td>-0.552212</td>\n",
       "      <td>-0.356042</td>\n",
       "    </tr>\n",
       "    <tr>\n",
       "      <th>Present_Price</th>\n",
       "      <td>0.884382</td>\n",
       "      <td>1.000000</td>\n",
       "      <td>0.192778</td>\n",
       "      <td>-0.091852</td>\n",
       "      <td>0.043046</td>\n",
       "      <td>0.470373</td>\n",
       "      <td>-0.462260</td>\n",
       "      <td>-0.523593</td>\n",
       "      <td>-0.322836</td>\n",
       "    </tr>\n",
       "    <tr>\n",
       "      <th>Kms_Driven</th>\n",
       "      <td>0.033867</td>\n",
       "      <td>0.192778</td>\n",
       "      <td>1.000000</td>\n",
       "      <td>-0.025560</td>\n",
       "      <td>0.515306</td>\n",
       "      <td>0.180708</td>\n",
       "      <td>-0.181127</td>\n",
       "      <td>-0.116985</td>\n",
       "      <td>-0.144385</td>\n",
       "    </tr>\n",
       "    <tr>\n",
       "      <th>Owner</th>\n",
       "      <td>-0.098917</td>\n",
       "      <td>-0.091852</td>\n",
       "      <td>-0.025560</td>\n",
       "      <td>1.000000</td>\n",
       "      <td>0.108758</td>\n",
       "      <td>-0.044868</td>\n",
       "      <td>0.047430</td>\n",
       "      <td>0.097761</td>\n",
       "      <td>0.071499</td>\n",
       "    </tr>\n",
       "    <tr>\n",
       "      <th>Age</th>\n",
       "      <td>-0.229408</td>\n",
       "      <td>0.043046</td>\n",
       "      <td>0.515306</td>\n",
       "      <td>0.108758</td>\n",
       "      <td>1.000000</td>\n",
       "      <td>-0.049858</td>\n",
       "      <td>0.045341</td>\n",
       "      <td>0.016433</td>\n",
       "      <td>0.017416</td>\n",
       "    </tr>\n",
       "    <tr>\n",
       "      <th>Fuel_Type_Diesel</th>\n",
       "      <td>0.542701</td>\n",
       "      <td>0.470373</td>\n",
       "      <td>0.180708</td>\n",
       "      <td>-0.044868</td>\n",
       "      <td>-0.049858</td>\n",
       "      <td>1.000000</td>\n",
       "      <td>-0.979070</td>\n",
       "      <td>-0.343815</td>\n",
       "      <td>-0.091008</td>\n",
       "    </tr>\n",
       "    <tr>\n",
       "      <th>Fuel_Type_Petrol</th>\n",
       "      <td>-0.530741</td>\n",
       "      <td>-0.462260</td>\n",
       "      <td>-0.181127</td>\n",
       "      <td>0.047430</td>\n",
       "      <td>0.045341</td>\n",
       "      <td>-0.979070</td>\n",
       "      <td>1.000000</td>\n",
       "      <td>0.351771</td>\n",
       "      <td>0.083431</td>\n",
       "    </tr>\n",
       "    <tr>\n",
       "      <th>Seller_Type_Individual</th>\n",
       "      <td>-0.552212</td>\n",
       "      <td>-0.523593</td>\n",
       "      <td>-0.116985</td>\n",
       "      <td>0.097761</td>\n",
       "      <td>0.016433</td>\n",
       "      <td>-0.343815</td>\n",
       "      <td>0.351771</td>\n",
       "      <td>1.000000</td>\n",
       "      <td>0.069867</td>\n",
       "    </tr>\n",
       "    <tr>\n",
       "      <th>Transmission_Manual</th>\n",
       "      <td>-0.356042</td>\n",
       "      <td>-0.322836</td>\n",
       "      <td>-0.144385</td>\n",
       "      <td>0.071499</td>\n",
       "      <td>0.017416</td>\n",
       "      <td>-0.091008</td>\n",
       "      <td>0.083431</td>\n",
       "      <td>0.069867</td>\n",
       "      <td>1.000000</td>\n",
       "    </tr>\n",
       "  </tbody>\n",
       "</table>\n",
       "</div>"
      ],
      "text/plain": [
       "                        Selling_Price  Present_Price  Kms_Driven     Owner  \\\n",
       "Selling_Price                1.000000       0.884382    0.033867 -0.098917   \n",
       "Present_Price                0.884382       1.000000    0.192778 -0.091852   \n",
       "Kms_Driven                   0.033867       0.192778    1.000000 -0.025560   \n",
       "Owner                       -0.098917      -0.091852   -0.025560  1.000000   \n",
       "Age                         -0.229408       0.043046    0.515306  0.108758   \n",
       "Fuel_Type_Diesel             0.542701       0.470373    0.180708 -0.044868   \n",
       "Fuel_Type_Petrol            -0.530741      -0.462260   -0.181127  0.047430   \n",
       "Seller_Type_Individual      -0.552212      -0.523593   -0.116985  0.097761   \n",
       "Transmission_Manual         -0.356042      -0.322836   -0.144385  0.071499   \n",
       "\n",
       "                             Age  Fuel_Type_Diesel  Fuel_Type_Petrol  \\\n",
       "Selling_Price          -0.229408          0.542701         -0.530741   \n",
       "Present_Price           0.043046          0.470373         -0.462260   \n",
       "Kms_Driven              0.515306          0.180708         -0.181127   \n",
       "Owner                   0.108758         -0.044868          0.047430   \n",
       "Age                     1.000000         -0.049858          0.045341   \n",
       "Fuel_Type_Diesel       -0.049858          1.000000         -0.979070   \n",
       "Fuel_Type_Petrol        0.045341         -0.979070          1.000000   \n",
       "Seller_Type_Individual  0.016433         -0.343815          0.351771   \n",
       "Transmission_Manual     0.017416         -0.091008          0.083431   \n",
       "\n",
       "                        Seller_Type_Individual  Transmission_Manual  \n",
       "Selling_Price                        -0.552212            -0.356042  \n",
       "Present_Price                        -0.523593            -0.322836  \n",
       "Kms_Driven                           -0.116985            -0.144385  \n",
       "Owner                                 0.097761             0.071499  \n",
       "Age                                   0.016433             0.017416  \n",
       "Fuel_Type_Diesel                     -0.343815            -0.091008  \n",
       "Fuel_Type_Petrol                      0.351771             0.083431  \n",
       "Seller_Type_Individual                1.000000             0.069867  \n",
       "Transmission_Manual                   0.069867             1.000000  "
      ]
     },
     "execution_count": 34,
     "metadata": {},
     "output_type": "execute_result"
    }
   ],
   "source": [
    "df1.corr()"
   ]
  },
  {
   "cell_type": "code",
   "execution_count": 35,
   "id": "95041893-0a2f-4ce3-8138-000c94e5dad2",
   "metadata": {},
   "outputs": [
    {
     "data": {
      "text/plain": [
       "<Axes: >"
      ]
     },
     "execution_count": 35,
     "metadata": {},
     "output_type": "execute_result"
    },
    {
     "data": {
      "image/png": "[encoded data removed]",
      "text/plain": [
       "<Figure size 1200x1200 with 2 Axes>"
      ]
     },
     "metadata": {},
     "output_type": "display_data"
    }
   ],
   "source": [
    "plt.figure(figsize=(12,12))\n",
    "sns.heatmap(df1.corr(), annot=True, cmap='Reds')"
   ]
  },
  {
   "cell_type": "markdown",
   "id": "7eaa561d-015d-4e53-ac1f-789693b78bd6",
   "metadata": {},
   "source": [
    "Заметна корреляция между Fuel_Type_Diesel и Selling_Price с Present_Price"
   ]
  },
  {
   "cell_type": "code",
   "execution_count": 36,
   "id": "db718e14-362e-41dd-a834-352944537c68",
   "metadata": {},
   "outputs": [
    {
     "data": {
      "text/html": [
       "<div>\n",
       "<style scoped>\n",
       "    .dataframe tbody tr th:only-of-type {\n",
       "        vertical-align: middle;\n",
       "    }\n",
       "\n",
       "    .dataframe tbody tr th {\n",
       "        vertical-align: top;\n",
       "    }\n",
       "\n",
       "    .dataframe thead th {\n",
       "        text-align: right;\n",
       "    }\n",
       "</style>\n",
       "<table border=\"1\" class=\"dataframe\">\n",
       "  <thead>\n",
       "    <tr style=\"text-align: right;\">\n",
       "      <th></th>\n",
       "      <th>Selling_Price</th>\n",
       "      <th>Present_Price</th>\n",
       "      <th>Kms_Driven</th>\n",
       "      <th>Owner</th>\n",
       "      <th>Age</th>\n",
       "      <th>Fuel_Type_Diesel</th>\n",
       "      <th>Fuel_Type_Petrol</th>\n",
       "      <th>Seller_Type_Individual</th>\n",
       "      <th>Transmission_Manual</th>\n",
       "    </tr>\n",
       "  </thead>\n",
       "  <tbody>\n",
       "    <tr>\n",
       "      <th>0</th>\n",
       "      <td>3.35</td>\n",
       "      <td>5.59</td>\n",
       "      <td>27000</td>\n",
       "      <td>0</td>\n",
       "      <td>5</td>\n",
       "      <td>0</td>\n",
       "      <td>1</td>\n",
       "      <td>0</td>\n",
       "      <td>1</td>\n",
       "    </tr>\n",
       "    <tr>\n",
       "      <th>1</th>\n",
       "      <td>4.75</td>\n",
       "      <td>9.54</td>\n",
       "      <td>43000</td>\n",
       "      <td>0</td>\n",
       "      <td>6</td>\n",
       "      <td>1</td>\n",
       "      <td>0</td>\n",
       "      <td>0</td>\n",
       "      <td>1</td>\n",
       "    </tr>\n",
       "    <tr>\n",
       "      <th>2</th>\n",
       "      <td>7.25</td>\n",
       "      <td>9.85</td>\n",
       "      <td>6900</td>\n",
       "      <td>0</td>\n",
       "      <td>2</td>\n",
       "      <td>0</td>\n",
       "      <td>1</td>\n",
       "      <td>0</td>\n",
       "      <td>1</td>\n",
       "    </tr>\n",
       "    <tr>\n",
       "      <th>3</th>\n",
       "      <td>2.85</td>\n",
       "      <td>4.15</td>\n",
       "      <td>5200</td>\n",
       "      <td>0</td>\n",
       "      <td>8</td>\n",
       "      <td>0</td>\n",
       "      <td>1</td>\n",
       "      <td>0</td>\n",
       "      <td>1</td>\n",
       "    </tr>\n",
       "    <tr>\n",
       "      <th>4</th>\n",
       "      <td>4.60</td>\n",
       "      <td>6.87</td>\n",
       "      <td>42450</td>\n",
       "      <td>0</td>\n",
       "      <td>5</td>\n",
       "      <td>1</td>\n",
       "      <td>0</td>\n",
       "      <td>0</td>\n",
       "      <td>1</td>\n",
       "    </tr>\n",
       "  </tbody>\n",
       "</table>\n",
       "</div>"
      ],
      "text/plain": [
       "   Selling_Price  Present_Price  Kms_Driven  Owner  Age  Fuel_Type_Diesel  \\\n",
       "0           3.35           5.59       27000      0    5                 0   \n",
       "1           4.75           9.54       43000      0    6                 1   \n",
       "2           7.25           9.85        6900      0    2                 0   \n",
       "3           2.85           4.15        5200      0    8                 0   \n",
       "4           4.60           6.87       42450      0    5                 1   \n",
       "\n",
       "   Fuel_Type_Petrol  Seller_Type_Individual  Transmission_Manual  \n",
       "0                 1                       0                    1  \n",
       "1                 0                       0                    1  \n",
       "2                 1                       0                    1  \n",
       "3                 1                       0                    1  \n",
       "4                 0                       0                    1  "
      ]
     },
     "execution_count": 36,
     "metadata": {},
     "output_type": "execute_result"
    }
   ],
   "source": [
    "df1.head()"
   ]
  },
  {
   "cell_type": "markdown",
   "id": "58cb3d14-369d-4976-aa66-4fc20150fc40",
   "metadata": {},
   "source": [
    "### Обучение моделей"
   ]
  },
  {
   "cell_type": "markdown",
   "id": "19f4c99f-5703-4078-9c12-c623dc526039",
   "metadata": {},
   "source": [
    "Для начала нормализируем данные для более стабильного обучения"
   ]
  },
  {
   "cell_type": "code",
   "execution_count": 37,
   "id": "1c37452f-63b1-4857-a282-af4f548b6ea2",
   "metadata": {},
   "outputs": [
    {
     "data": {
      "text/html": [
       "<div>\n",
       "<style scoped>\n",
       "    .dataframe tbody tr th:only-of-type {\n",
       "        vertical-align: middle;\n",
       "    }\n",
       "\n",
       "    .dataframe tbody tr th {\n",
       "        vertical-align: top;\n",
       "    }\n",
       "\n",
       "    .dataframe thead th {\n",
       "        text-align: right;\n",
       "    }\n",
       "</style>\n",
       "<table border=\"1\" class=\"dataframe\">\n",
       "  <thead>\n",
       "    <tr style=\"text-align: right;\">\n",
       "      <th></th>\n",
       "      <th>Present_Price</th>\n",
       "      <th>Kms_Driven</th>\n",
       "      <th>Age</th>\n",
       "      <th>Fuel_Type_Diesel</th>\n",
       "      <th>Fuel_Type_Petrol</th>\n",
       "      <th>Seller_Type_Individual</th>\n",
       "      <th>Transmission_Manual</th>\n",
       "      <th>Owner</th>\n",
       "      <th>Selling_Price</th>\n",
       "    </tr>\n",
       "  </thead>\n",
       "  <tbody>\n",
       "    <tr>\n",
       "      <th>0</th>\n",
       "      <td>1.171326</td>\n",
       "      <td>1.159159</td>\n",
       "      <td>1.8</td>\n",
       "      <td>0</td>\n",
       "      <td>1</td>\n",
       "      <td>0</td>\n",
       "      <td>1</td>\n",
       "      <td>0</td>\n",
       "      <td>3.35</td>\n",
       "    </tr>\n",
       "    <tr>\n",
       "      <th>1</th>\n",
       "      <td>1.299740</td>\n",
       "      <td>1.255255</td>\n",
       "      <td>2.0</td>\n",
       "      <td>1</td>\n",
       "      <td>0</td>\n",
       "      <td>0</td>\n",
       "      <td>1</td>\n",
       "      <td>0</td>\n",
       "      <td>4.75</td>\n",
       "    </tr>\n",
       "    <tr>\n",
       "      <th>2</th>\n",
       "      <td>1.309818</td>\n",
       "      <td>1.038438</td>\n",
       "      <td>1.2</td>\n",
       "      <td>0</td>\n",
       "      <td>1</td>\n",
       "      <td>0</td>\n",
       "      <td>1</td>\n",
       "      <td>0</td>\n",
       "      <td>7.25</td>\n",
       "    </tr>\n",
       "    <tr>\n",
       "      <th>3</th>\n",
       "      <td>1.124512</td>\n",
       "      <td>1.028228</td>\n",
       "      <td>2.4</td>\n",
       "      <td>0</td>\n",
       "      <td>1</td>\n",
       "      <td>0</td>\n",
       "      <td>1</td>\n",
       "      <td>0</td>\n",
       "      <td>2.85</td>\n",
       "    </tr>\n",
       "    <tr>\n",
       "      <th>4</th>\n",
       "      <td>1.212939</td>\n",
       "      <td>1.251952</td>\n",
       "      <td>1.8</td>\n",
       "      <td>1</td>\n",
       "      <td>0</td>\n",
       "      <td>0</td>\n",
       "      <td>1</td>\n",
       "      <td>0</td>\n",
       "      <td>4.60</td>\n",
       "    </tr>\n",
       "    <tr>\n",
       "      <th>...</th>\n",
       "      <td>...</td>\n",
       "      <td>...</td>\n",
       "      <td>...</td>\n",
       "      <td>...</td>\n",
       "      <td>...</td>\n",
       "      <td>...</td>\n",
       "      <td>...</td>\n",
       "      <td>...</td>\n",
       "      <td>...</td>\n",
       "    </tr>\n",
       "    <tr>\n",
       "      <th>292</th>\n",
       "      <td>1.366710</td>\n",
       "      <td>1.201129</td>\n",
       "      <td>1.4</td>\n",
       "      <td>1</td>\n",
       "      <td>0</td>\n",
       "      <td>0</td>\n",
       "      <td>1</td>\n",
       "      <td>0</td>\n",
       "      <td>9.50</td>\n",
       "    </tr>\n",
       "    <tr>\n",
       "      <th>293</th>\n",
       "      <td>1.181404</td>\n",
       "      <td>1.357357</td>\n",
       "      <td>1.6</td>\n",
       "      <td>0</td>\n",
       "      <td>1</td>\n",
       "      <td>0</td>\n",
       "      <td>1</td>\n",
       "      <td>0</td>\n",
       "      <td>4.00</td>\n",
       "    </tr>\n",
       "    <tr>\n",
       "      <th>294</th>\n",
       "      <td>1.347204</td>\n",
       "      <td>1.525129</td>\n",
       "      <td>2.8</td>\n",
       "      <td>0</td>\n",
       "      <td>1</td>\n",
       "      <td>0</td>\n",
       "      <td>1</td>\n",
       "      <td>0</td>\n",
       "      <td>3.35</td>\n",
       "    </tr>\n",
       "    <tr>\n",
       "      <th>295</th>\n",
       "      <td>1.395969</td>\n",
       "      <td>1.051051</td>\n",
       "      <td>1.2</td>\n",
       "      <td>1</td>\n",
       "      <td>0</td>\n",
       "      <td>0</td>\n",
       "      <td>1</td>\n",
       "      <td>0</td>\n",
       "      <td>11.50</td>\n",
       "    </tr>\n",
       "    <tr>\n",
       "      <th>296</th>\n",
       "      <td>1.181404</td>\n",
       "      <td>1.029814</td>\n",
       "      <td>1.4</td>\n",
       "      <td>0</td>\n",
       "      <td>1</td>\n",
       "      <td>0</td>\n",
       "      <td>1</td>\n",
       "      <td>0</td>\n",
       "      <td>5.30</td>\n",
       "    </tr>\n",
       "  </tbody>\n",
       "</table>\n",
       "<p>297 rows × 9 columns</p>\n",
       "</div>"
      ],
      "text/plain": [
       "     Present_Price  Kms_Driven  Age  Fuel_Type_Diesel  Fuel_Type_Petrol  \\\n",
       "0         1.171326    1.159159  1.8                 0                 1   \n",
       "1         1.299740    1.255255  2.0                 1                 0   \n",
       "2         1.309818    1.038438  1.2                 0                 1   \n",
       "3         1.124512    1.028228  2.4                 0                 1   \n",
       "4         1.212939    1.251952  1.8                 1                 0   \n",
       "..             ...         ...  ...               ...               ...   \n",
       "292       1.366710    1.201129  1.4                 1                 0   \n",
       "293       1.181404    1.357357  1.6                 0                 1   \n",
       "294       1.347204    1.525129  2.8                 0                 1   \n",
       "295       1.395969    1.051051  1.2                 1                 0   \n",
       "296       1.181404    1.029814  1.4                 0                 1   \n",
       "\n",
       "     Seller_Type_Individual  Transmission_Manual  Owner  Selling_Price  \n",
       "0                         0                    1      0           3.35  \n",
       "1                         0                    1      0           4.75  \n",
       "2                         0                    1      0           7.25  \n",
       "3                         0                    1      0           2.85  \n",
       "4                         0                    1      0           4.60  \n",
       "..                      ...                  ...    ...            ...  \n",
       "292                       0                    1      0           9.50  \n",
       "293                       0                    1      0           4.00  \n",
       "294                       0                    1      0           3.35  \n",
       "295                       0                    1      0          11.50  \n",
       "296                       0                    1      0           5.30  \n",
       "\n",
       "[297 rows x 9 columns]"
      ]
     },
     "execution_count": 37,
     "metadata": {},
     "output_type": "execute_result"
    }
   ],
   "source": [
    "scaler = MinMaxScaler(feature_range=(1,4))\n",
    "nrm = scaler.fit_transform(df1[['Present_Price', 'Kms_Driven','Age']])\n",
    "nrm = pd.DataFrame(nrm, columns=['Present_Price', 'Kms_Driven','Age'])\n",
    "nrm = pd.concat([nrm, df1[['Fuel_Type_Diesel','Fuel_Type_Petrol','Seller_Type_Individual','Transmission_Manual','Owner', 'Selling_Price']]], axis=1)\n",
    "nrm"
   ]
  },
  {
   "cell_type": "markdown",
   "id": "e59019ed-67a0-4a80-ada7-14eb12de0bce",
   "metadata": {},
   "source": [
    "Отделим целевеую переменную от остальных признаков, нужных для обучения"
   ]
  },
  {
   "cell_type": "code",
   "execution_count": 38,
   "id": "38e3390e-87ff-40ea-a6fd-0a7fc9df8e4b",
   "metadata": {},
   "outputs": [],
   "source": [
    "X = nrm.drop('Selling_Price',axis=1)\n",
    "y = nrm['Selling_Price']"
   ]
  },
  {
   "cell_type": "markdown",
   "id": "849a5f34-a994-4904-a6a7-74b330efd51a",
   "metadata": {},
   "source": [
    "Разделим данные на тренировочные и тестовые"
   ]
  },
  {
   "cell_type": "code",
   "execution_count": 39,
   "id": "e5ed0e4b-8056-4a85-b6bf-8d63ff113c02",
   "metadata": {},
   "outputs": [],
   "source": [
    "X_train, X_test, Y_train, Y_test = train_test_split(X, y ,test_size=0.3, random_state=41)"
   ]
  },
  {
   "cell_type": "markdown",
   "id": "97a63a00-a64a-431b-a735-a52a2fe71178",
   "metadata": {},
   "source": [
    "### LinearRegression"
   ]
  },
  {
   "cell_type": "markdown",
   "id": "3b048afd-f10f-4d30-a607-8c8dbf6b5b7b",
   "metadata": {},
   "source": [
    "Для начала попробуем взять модель LinearRegression"
   ]
  },
  {
   "cell_type": "code",
   "execution_count": 40,
   "id": "f4529e58-3065-45eb-873b-63e83083c4da",
   "metadata": {},
   "outputs": [],
   "source": [
    "reg = LinearRegression()"
   ]
  },
  {
   "cell_type": "markdown",
   "id": "b8839eb7-a759-494d-a910-61303187092d",
   "metadata": {},
   "source": [
    "Обучаем"
   ]
  },
  {
   "cell_type": "code",
   "execution_count": 41,
   "id": "7d0223f7-3710-4451-a9c2-5875bdf53c91",
   "metadata": {},
   "outputs": [
    {
     "data": {
      "text/html": [
       "<style>#sk-container-id-1 {color: black;}#sk-container-id-1 pre{padding: 0;}#sk-container-id-1 div.sk-toggleable {background-color: white;}#sk-container-id-1 label.sk-toggleable__label {cursor: pointer;display: block;width: 100%;margin-bottom: 0;padding: 0.3em;box-sizing: border-box;text-align: center;}#sk-container-id-1 label.sk-toggleable__label-arrow:before {content: \"▸\";float: left;margin-right: 0.25em;color: #696969;}#sk-container-id-1 label.sk-toggleable__label-arrow:hover:before {color: black;}#sk-container-id-1 div.sk-estimator:hover label.sk-toggleable__label-arrow:before {color: black;}#sk-container-id-1 div.sk-toggleable__content {max-height: 0;max-width: 0;overflow: hidden;text-align: left;background-color: #f0f8ff;}#sk-container-id-1 div.sk-toggleable__content pre {margin: 0.2em;color: black;border-radius: 0.25em;background-color: #f0f8ff;}#sk-container-id-1 input.sk-toggleable__control:checked~div.sk-toggleable__content {max-height: 200px;max-width: 100%;overflow: auto;}#sk-container-id-1 input.sk-toggleable__control:checked~label.sk-toggleable__label-arrow:before {content: \"▾\";}#sk-container-id-1 div.sk-estimator input.sk-toggleable__control:checked~label.sk-toggleable__label {background-color: #d4ebff;}#sk-container-id-1 div.sk-label input.sk-toggleable__control:checked~label.sk-toggleable__label {background-color: #d4ebff;}#sk-container-id-1 input.sk-hidden--visually {border: 0;clip: rect(1px 1px 1px 1px);clip: rect(1px, 1px, 1px, 1px);height: 1px;margin: -1px;overflow: hidden;padding: 0;position: absolute;width: 1px;}#sk-container-id-1 div.sk-estimator {font-family: monospace;background-color: #f0f8ff;border: 1px dotted black;border-radius: 0.25em;box-sizing: border-box;margin-bottom: 0.5em;}#sk-container-id-1 div.sk-estimator:hover {background-color: #d4ebff;}#sk-container-id-1 div.sk-parallel-item::after {content: \"\";width: 100%;border-bottom: 1px solid gray;flex-grow: 1;}#sk-container-id-1 div.sk-label:hover label.sk-toggleable__label {background-color: #d4ebff;}#sk-container-id-1 div.sk-serial::before {content: \"\";position: absolute;border-left: 1px solid gray;box-sizing: border-box;top: 0;bottom: 0;left: 50%;z-index: 0;}#sk-container-id-1 div.sk-serial {display: flex;flex-direction: column;align-items: center;background-color: white;padding-right: 0.2em;padding-left: 0.2em;position: relative;}#sk-container-id-1 div.sk-item {position: relative;z-index: 1;}#sk-container-id-1 div.sk-parallel {display: flex;align-items: stretch;justify-content: center;background-color: white;position: relative;}#sk-container-id-1 div.sk-item::before, #sk-container-id-1 div.sk-parallel-item::before {content: \"\";position: absolute;border-left: 1px solid gray;box-sizing: border-box;top: 0;bottom: 0;left: 50%;z-index: -1;}#sk-container-id-1 div.sk-parallel-item {display: flex;flex-direction: column;z-index: 1;position: relative;background-color: white;}#sk-container-id-1 div.sk-parallel-item:first-child::after {align-self: flex-end;width: 50%;}#sk-container-id-1 div.sk-parallel-item:last-child::after {align-self: flex-start;width: 50%;}#sk-container-id-1 div.sk-parallel-item:only-child::after {width: 0;}#sk-container-id-1 div.sk-dashed-wrapped {border: 1px dashed gray;margin: 0 0.4em 0.5em 0.4em;box-sizing: border-box;padding-bottom: 0.4em;background-color: white;}#sk-container-id-1 div.sk-label label {font-family: monospace;font-weight: bold;display: inline-block;line-height: 1.2em;}#sk-container-id-1 div.sk-label-container {text-align: center;}#sk-container-id-1 div.sk-container {/* jupyter's `normalize.less` sets `[hidden] { display: none; }` but bootstrap.min.css set `[hidden] { display: none !important; }` so we also need the `!important` here to be able to override the default hidden behavior on the sphinx rendered scikit-learn.org. See: https://github.com/scikit-learn/scikit-learn/issues/21755 */display: inline-block !important;position: relative;}#sk-container-id-1 div.sk-text-repr-fallback {display: none;}</style><div id=\"sk-container-id-1\" class=\"sk-top-container\"><div class=\"sk-text-repr-fallback\"><pre>LinearRegression()</pre><b>In a Jupyter environment, please rerun this cell to show the HTML representation or trust the notebook. <br />On GitHub, the HTML representation is unable to render, please try loading this page with nbviewer.org.</b></div><div class=\"sk-container\" hidden><div class=\"sk-item\"><div class=\"sk-estimator sk-toggleable\"><input class=\"sk-toggleable__control sk-hidden--visually\" id=\"sk-estimator-id-1\" type=\"checkbox\" checked><label for=\"sk-estimator-id-1\" class=\"sk-toggleable__label sk-toggleable__label-arrow\">LinearRegression</label><div class=\"sk-toggleable__content\"><pre>LinearRegression()</pre></div></div></div></div></div>"
      ],
      "text/plain": [
       "LinearRegression()"
      ]
     },
     "execution_count": 41,
     "metadata": {},
     "output_type": "execute_result"
    }
   ],
   "source": [
    "reg.fit(X_train,Y_train)"
   ]
  },
  {
   "cell_type": "markdown",
   "id": "de18deb3-4f96-4717-aaea-06eb0558edf7",
   "metadata": {},
   "source": [
    "Делаем предсказание"
   ]
  },
  {
   "cell_type": "code",
   "execution_count": 42,
   "id": "df2226e7-93ed-4bf2-9ffa-d3f5323da4b9",
   "metadata": {},
   "outputs": [],
   "source": [
    "y_pred=reg.predict(X_test)"
   ]
  },
  {
   "cell_type": "markdown",
   "id": "f4b0c125-b7ec-4ac3-9a99-ffd1ca5bc6ff",
   "metadata": {},
   "source": [
    "Выводим метрики, смотрим на то, как хорошо обучилась модель"
   ]
  },
  {
   "cell_type": "code",
   "execution_count": 43,
   "id": "0ba08c37-6064-4074-bad9-c12e83c35488",
   "metadata": {},
   "outputs": [
    {
     "name": "stdout",
     "output_type": "stream",
     "text": [
      "MAE: 1.1366109258123196\n",
      "MSE: 3.7880851990845206\n",
      "RMSE: 1.9463003876803089\n",
      "R2 score: 0.8016091971699405\n"
     ]
    }
   ],
   "source": [
    "print(f'MAE: {mean_absolute_error(y_pred, Y_test)}')\n",
    "print(f'MSE: {mean_squared_error(y_pred, Y_test)}')\n",
    "print(f'RMSE: {mean_squared_error(y_pred, Y_test)**(1/2)}')\n",
    "print(f'R2 score: {r2_score(y_pred, Y_test)}')\n",
    "r2LinearRegression = r2_score(y_pred, Y_test)"
   ]
  },
  {
   "cell_type": "code",
   "execution_count": 44,
   "id": "4765cbd3-9c67-4a23-842c-5403d8009e8a",
   "metadata": {},
   "outputs": [
    {
     "data": {
      "text/plain": [
       "<matplotlib.collections.PathCollection at 0x1bea5ab05e0>"
      ]
     },
     "execution_count": 44,
     "metadata": {},
     "output_type": "execute_result"
    },
    {
     "data": {
      "image/png": "[encoded data removed]",
      "text/plain": [
       "<Figure size 640x480 with 1 Axes>"
      ]
     },
     "metadata": {},
     "output_type": "display_data"
    }
   ],
   "source": [
    "plt.scatter(Y_test,y_pred)"
   ]
  },
  {
   "cell_type": "markdown",
   "id": "cd01df33-8060-4c0d-be6b-e02799da5065",
   "metadata": {},
   "source": [
    "Модель обучилась неплохо"
   ]
  },
  {
   "cell_type": "markdown",
   "id": "703a5c69-6e24-4505-93c6-4ad325074c4f",
   "metadata": {},
   "source": [
    "Посмотрим насколько хорошо модель обучена при помощи кросс-валидации"
   ]
  },
  {
   "cell_type": "code",
   "execution_count": 45,
   "id": "57970c0f-f9b3-4511-839e-1bcd923c11a9",
   "metadata": {},
   "outputs": [],
   "source": [
    "kf = KFold(10)\n",
    "cross_val = cross_val_score(reg, X_train, Y_train, cv=kf, scoring='r2')\n",
    "cv_mean = np.mean(cross_val)"
   ]
  },
  {
   "cell_type": "code",
   "execution_count": 46,
   "id": "ff47d2f4-2fba-4093-a8f9-a0b3a29fa355",
   "metadata": {},
   "outputs": [
    {
     "name": "stdout",
     "output_type": "stream",
     "text": [
      "Train CV scores : [0.88872858 0.74018751 0.92618571 0.82651367 0.81450468 0.8837383\n",
      " 0.59922564 0.90484668 0.78367721 0.79069386]\n",
      "Train CV mean : 0.816\n"
     ]
    }
   ],
   "source": [
    "print(\"Train CV scores :\", cross_val)\n",
    "print(\"Train CV mean :\", round(cv_mean, 3))"
   ]
  },
  {
   "cell_type": "code",
   "execution_count": 47,
   "id": "74de3357-1482-4178-b3fd-428b7f344ad3",
   "metadata": {},
   "outputs": [],
   "source": [
    "kf = KFold(5)\n",
    "cross_val = cross_val_score(reg, X_train, Y_train, cv=kf, scoring='r2')\n",
    "cv_mean = np.mean(cross_val)"
   ]
  },
  {
   "cell_type": "code",
   "execution_count": 48,
   "id": "835ae6f4-9494-4b46-9ebd-0ac194da4fe7",
   "metadata": {},
   "outputs": [
    {
     "name": "stdout",
     "output_type": "stream",
     "text": [
      "Train CV scores : [0.86968567 0.88567226 0.82555257 0.84949393 0.83528019]\n",
      "Train CV mean : 0.853\n"
     ]
    }
   ],
   "source": [
    "print(\"Train CV scores :\", cross_val)\n",
    "print(\"Train CV mean :\", round(cv_mean, 3))"
   ]
  },
  {
   "cell_type": "markdown",
   "id": "338bcce3-5baa-4c0c-afb0-804402d80faf",
   "metadata": {},
   "source": [
    "Модель также показала себя неплохо"
   ]
  },
  {
   "cell_type": "markdown",
   "id": "46731550-3e14-4caf-ae81-5cb85336a3fe",
   "metadata": {},
   "source": [
    "### DecisionTreeRegressor"
   ]
  },
  {
   "cell_type": "markdown",
   "id": "4ff13df2-9389-42bd-9f8e-79b95754ad8d",
   "metadata": {},
   "source": [
    "Далее возьмём модель DecisionTreeRegressor"
   ]
  },
  {
   "cell_type": "code",
   "execution_count": 49,
   "id": "19544892-2153-4345-ab79-8d14746bb8f9",
   "metadata": {},
   "outputs": [],
   "source": [
    "decision_tree_regressor = DecisionTreeRegressor()"
   ]
  },
  {
   "cell_type": "markdown",
   "id": "3e5849f2-4c63-4a0f-a671-aaf3b0832470",
   "metadata": {},
   "source": [
    "Обучаем"
   ]
  },
  {
   "cell_type": "code",
   "execution_count": 50,
   "id": "a8f632a4-a530-42e7-bbe2-39ab17e00674",
   "metadata": {},
   "outputs": [
    {
     "data": {
      "text/html": [
       "<style>#sk-container-id-2 {color: black;}#sk-container-id-2 pre{padding: 0;}#sk-container-id-2 div.sk-toggleable {background-color: white;}#sk-container-id-2 label.sk-toggleable__label {cursor: pointer;display: block;width: 100%;margin-bottom: 0;padding: 0.3em;box-sizing: border-box;text-align: center;}#sk-container-id-2 label.sk-toggleable__label-arrow:before {content: \"▸\";float: left;margin-right: 0.25em;color: #696969;}#sk-container-id-2 label.sk-toggleable__label-arrow:hover:before {color: black;}#sk-container-id-2 div.sk-estimator:hover label.sk-toggleable__label-arrow:before {color: black;}#sk-container-id-2 div.sk-toggleable__content {max-height: 0;max-width: 0;overflow: hidden;text-align: left;background-color: #f0f8ff;}#sk-container-id-2 div.sk-toggleable__content pre {margin: 0.2em;color: black;border-radius: 0.25em;background-color: #f0f8ff;}#sk-container-id-2 input.sk-toggleable__control:checked~div.sk-toggleable__content {max-height: 200px;max-width: 100%;overflow: auto;}#sk-container-id-2 input.sk-toggleable__control:checked~label.sk-toggleable__label-arrow:before {content: \"▾\";}#sk-container-id-2 div.sk-estimator input.sk-toggleable__control:checked~label.sk-toggleable__label {background-color: #d4ebff;}#sk-container-id-2 div.sk-label input.sk-toggleable__control:checked~label.sk-toggleable__label {background-color: #d4ebff;}#sk-container-id-2 input.sk-hidden--visually {border: 0;clip: rect(1px 1px 1px 1px);clip: rect(1px, 1px, 1px, 1px);height: 1px;margin: -1px;overflow: hidden;padding: 0;position: absolute;width: 1px;}#sk-container-id-2 div.sk-estimator {font-family: monospace;background-color: #f0f8ff;border: 1px dotted black;border-radius: 0.25em;box-sizing: border-box;margin-bottom: 0.5em;}#sk-container-id-2 div.sk-estimator:hover {background-color: #d4ebff;}#sk-container-id-2 div.sk-parallel-item::after {content: \"\";width: 100%;border-bottom: 1px solid gray;flex-grow: 1;}#sk-container-id-2 div.sk-label:hover label.sk-toggleable__label {background-color: #d4ebff;}#sk-container-id-2 div.sk-serial::before {content: \"\";position: absolute;border-left: 1px solid gray;box-sizing: border-box;top: 0;bottom: 0;left: 50%;z-index: 0;}#sk-container-id-2 div.sk-serial {display: flex;flex-direction: column;align-items: center;background-color: white;padding-right: 0.2em;padding-left: 0.2em;position: relative;}#sk-container-id-2 div.sk-item {position: relative;z-index: 1;}#sk-container-id-2 div.sk-parallel {display: flex;align-items: stretch;justify-content: center;background-color: white;position: relative;}#sk-container-id-2 div.sk-item::before, #sk-container-id-2 div.sk-parallel-item::before {content: \"\";position: absolute;border-left: 1px solid gray;box-sizing: border-box;top: 0;bottom: 0;left: 50%;z-index: -1;}#sk-container-id-2 div.sk-parallel-item {display: flex;flex-direction: column;z-index: 1;position: relative;background-color: white;}#sk-container-id-2 div.sk-parallel-item:first-child::after {align-self: flex-end;width: 50%;}#sk-container-id-2 div.sk-parallel-item:last-child::after {align-self: flex-start;width: 50%;}#sk-container-id-2 div.sk-parallel-item:only-child::after {width: 0;}#sk-container-id-2 div.sk-dashed-wrapped {border: 1px dashed gray;margin: 0 0.4em 0.5em 0.4em;box-sizing: border-box;padding-bottom: 0.4em;background-color: white;}#sk-container-id-2 div.sk-label label {font-family: monospace;font-weight: bold;display: inline-block;line-height: 1.2em;}#sk-container-id-2 div.sk-label-container {text-align: center;}#sk-container-id-2 div.sk-container {/* jupyter's `normalize.less` sets `[hidden] { display: none; }` but bootstrap.min.css set `[hidden] { display: none !important; }` so we also need the `!important` here to be able to override the default hidden behavior on the sphinx rendered scikit-learn.org. See: https://github.com/scikit-learn/scikit-learn/issues/21755 */display: inline-block !important;position: relative;}#sk-container-id-2 div.sk-text-repr-fallback {display: none;}</style><div id=\"sk-container-id-2\" class=\"sk-top-container\"><div class=\"sk-text-repr-fallback\"><pre>DecisionTreeRegressor()</pre><b>In a Jupyter environment, please rerun this cell to show the HTML representation or trust the notebook. <br />On GitHub, the HTML representation is unable to render, please try loading this page with nbviewer.org.</b></div><div class=\"sk-container\" hidden><div class=\"sk-item\"><div class=\"sk-estimator sk-toggleable\"><input class=\"sk-toggleable__control sk-hidden--visually\" id=\"sk-estimator-id-2\" type=\"checkbox\" checked><label for=\"sk-estimator-id-2\" class=\"sk-toggleable__label sk-toggleable__label-arrow\">DecisionTreeRegressor</label><div class=\"sk-toggleable__content\"><pre>DecisionTreeRegressor()</pre></div></div></div></div></div>"
      ],
      "text/plain": [
       "DecisionTreeRegressor()"
      ]
     },
     "execution_count": 50,
     "metadata": {},
     "output_type": "execute_result"
    }
   ],
   "source": [
    "decision_tree_regressor.fit(X_train, Y_train)"
   ]
  },
  {
   "cell_type": "markdown",
   "id": "7a90259b-9f7b-4102-bbbb-4dca6995acf4",
   "metadata": {},
   "source": [
    "Деалем предсказание"
   ]
  },
  {
   "cell_type": "code",
   "execution_count": 51,
   "id": "9b5dbd5a-2a0a-4146-9aa5-d710f01f678c",
   "metadata": {},
   "outputs": [],
   "source": [
    "y_pred = decision_tree_regressor.predict(X_test)"
   ]
  },
  {
   "cell_type": "markdown",
   "id": "45c3ad74-e5e4-4de7-bfc7-e2edaebcc1b4",
   "metadata": {},
   "source": [
    "Выводим метрики, смотрим на то, как хорошо обучилась модель"
   ]
  },
  {
   "cell_type": "code",
   "execution_count": 52,
   "id": "4a7abf8e-a352-4725-aca1-18827a7bd549",
   "metadata": {},
   "outputs": [
    {
     "name": "stdout",
     "output_type": "stream",
     "text": [
      "MAE: 0.6553333333333333\n",
      "MSE: 1.9273733333333332\n",
      "RMSE: 1.3882987190562892\n",
      "R2 score: 0.9086657481097583\n"
     ]
    }
   ],
   "source": [
    "print(f'MAE: {mean_absolute_error(y_pred, Y_test)}')\n",
    "print(f'MSE: {mean_squared_error(y_pred, Y_test)}')\n",
    "print(f'RMSE: {mean_squared_error(y_pred, Y_test)**(1/2)}')\n",
    "print(f'R2 score: {r2_score(y_pred, Y_test)}')\n",
    "r2DecisionTreeRegressor = r2_score(y_pred, Y_test)"
   ]
  },
  {
   "cell_type": "code",
   "execution_count": 53,
   "id": "7e60649f-28b2-4648-92c9-9ac2d07fbf23",
   "metadata": {},
   "outputs": [
    {
     "data": {
      "text/plain": [
       "<matplotlib.collections.PathCollection at 0x1bea5af2f10>"
      ]
     },
     "execution_count": 53,
     "metadata": {},
     "output_type": "execute_result"
    },
    {
     "data": {
      "image/png": "[encoded data removed]",
      "text/plain": [
       "<Figure size 640x480 with 1 Axes>"
      ]
     },
     "metadata": {},
     "output_type": "display_data"
    }
   ],
   "source": [
    "plt.scatter(Y_test,y_pred)"
   ]
  },
  {
   "cell_type": "markdown",
   "id": "053ab9ec-2b7f-4706-8047-f61ead885523",
   "metadata": {},
   "source": [
    "Данная модель обучилась уже чуть получше"
   ]
  },
  {
   "cell_type": "markdown",
   "id": "809823c1-1b98-49a3-9a09-eae2a40f0e03",
   "metadata": {},
   "source": [
    "Посмотрим насколько хорошо модель обучена при помощи кросс-валидации"
   ]
  },
  {
   "cell_type": "code",
   "execution_count": 54,
   "id": "7d490db4-fe50-40ff-9246-8f29370fb01b",
   "metadata": {},
   "outputs": [],
   "source": [
    "kf = KFold(10)\n",
    "cross_val = cross_val_score(decision_tree_regressor, X_train, Y_train, cv=kf, scoring='r2')\n",
    "cv_mean = np.mean(cross_val)"
   ]
  },
  {
   "cell_type": "code",
   "execution_count": 55,
   "id": "64077f77-35fb-4cae-9b3d-e18cf61c6fef",
   "metadata": {},
   "outputs": [
    {
     "name": "stdout",
     "output_type": "stream",
     "text": [
      "Train CV scores : [0.95162065 0.72779584 0.91075136 0.97779976 0.84403007 0.85525224\n",
      " 0.45896255 0.92534114 0.93296053 0.73655522]\n",
      "Train CV mean : 0.832\n"
     ]
    }
   ],
   "source": [
    "print(\"Train CV scores :\", cross_val)\n",
    "print(\"Train CV mean :\", round(cv_mean, 3))"
   ]
  },
  {
   "cell_type": "code",
   "execution_count": 56,
   "id": "d9e58fb4-9820-48e7-99e1-7a087c950feb",
   "metadata": {},
   "outputs": [],
   "source": [
    "kf = KFold(5)\n",
    "cross_val = cross_val_score(decision_tree_regressor, X_train, Y_train, cv=kf, scoring='r2')\n",
    "cv_mean = np.mean(cross_val)"
   ]
  },
  {
   "cell_type": "code",
   "execution_count": 57,
   "id": "335ae29f-ffd5-4c65-8279-de367cf4a13d",
   "metadata": {},
   "outputs": [
    {
     "name": "stdout",
     "output_type": "stream",
     "text": [
      "Train CV scores : [0.91233218 0.9281318  0.86978753 0.722717   0.68152519]\n",
      "Train CV mean : 0.823\n"
     ]
    }
   ],
   "source": [
    "print(\"Train CV scores :\", cross_val)\n",
    "print(\"Train CV mean :\", round(cv_mean, 3))"
   ]
  },
  {
   "cell_type": "markdown",
   "id": "54f63351-9c19-462c-b4f0-e5abc9d327c0",
   "metadata": {},
   "source": [
    "И тут модель также показала хорошие результаты"
   ]
  },
  {
   "cell_type": "markdown",
   "id": "c6a6b417-d466-4e5a-801f-0063493a2eee",
   "metadata": {},
   "source": [
    "### LASSO"
   ]
  },
  {
   "cell_type": "markdown",
   "id": "e1038160-2b66-45da-8e14-1bc95f86597d",
   "metadata": {},
   "source": [
    "Наконец, возьмём LASSO, так как интересно посмотреть, как он поведёт себя в данной задаче"
   ]
  },
  {
   "cell_type": "code",
   "execution_count": 58,
   "id": "241a3e62-712d-4ef6-addc-e636d0cc19a6",
   "metadata": {},
   "outputs": [],
   "source": [
    "lasso = LassoCV()"
   ]
  },
  {
   "cell_type": "markdown",
   "id": "175697fd-e9b2-41fc-93cc-45cf541f535b",
   "metadata": {},
   "source": [
    "Обучаем"
   ]
  },
  {
   "cell_type": "code",
   "execution_count": 59,
   "id": "98e6be57-14ab-43dd-903e-2b5108e6df18",
   "metadata": {},
   "outputs": [
    {
     "data": {
      "text/html": [
       "<style>#sk-container-id-3 {color: black;}#sk-container-id-3 pre{padding: 0;}#sk-container-id-3 div.sk-toggleable {background-color: white;}#sk-container-id-3 label.sk-toggleable__label {cursor: pointer;display: block;width: 100%;margin-bottom: 0;padding: 0.3em;box-sizing: border-box;text-align: center;}#sk-container-id-3 label.sk-toggleable__label-arrow:before {content: \"▸\";float: left;margin-right: 0.25em;color: #696969;}#sk-container-id-3 label.sk-toggleable__label-arrow:hover:before {color: black;}#sk-container-id-3 div.sk-estimator:hover label.sk-toggleable__label-arrow:before {color: black;}#sk-container-id-3 div.sk-toggleable__content {max-height: 0;max-width: 0;overflow: hidden;text-align: left;background-color: #f0f8ff;}#sk-container-id-3 div.sk-toggleable__content pre {margin: 0.2em;color: black;border-radius: 0.25em;background-color: #f0f8ff;}#sk-container-id-3 input.sk-toggleable__control:checked~div.sk-toggleable__content {max-height: 200px;max-width: 100%;overflow: auto;}#sk-container-id-3 input.sk-toggleable__control:checked~label.sk-toggleable__label-arrow:before {content: \"▾\";}#sk-container-id-3 div.sk-estimator input.sk-toggleable__control:checked~label.sk-toggleable__label {background-color: #d4ebff;}#sk-container-id-3 div.sk-label input.sk-toggleable__control:checked~label.sk-toggleable__label {background-color: #d4ebff;}#sk-container-id-3 input.sk-hidden--visually {border: 0;clip: rect(1px 1px 1px 1px);clip: rect(1px, 1px, 1px, 1px);height: 1px;margin: -1px;overflow: hidden;padding: 0;position: absolute;width: 1px;}#sk-container-id-3 div.sk-estimator {font-family: monospace;background-color: #f0f8ff;border: 1px dotted black;border-radius: 0.25em;box-sizing: border-box;margin-bottom: 0.5em;}#sk-container-id-3 div.sk-estimator:hover {background-color: #d4ebff;}#sk-container-id-3 div.sk-parallel-item::after {content: \"\";width: 100%;border-bottom: 1px solid gray;flex-grow: 1;}#sk-container-id-3 div.sk-label:hover label.sk-toggleable__label {background-color: #d4ebff;}#sk-container-id-3 div.sk-serial::before {content: \"\";position: absolute;border-left: 1px solid gray;box-sizing: border-box;top: 0;bottom: 0;left: 50%;z-index: 0;}#sk-container-id-3 div.sk-serial {display: flex;flex-direction: column;align-items: center;background-color: white;padding-right: 0.2em;padding-left: 0.2em;position: relative;}#sk-container-id-3 div.sk-item {position: relative;z-index: 1;}#sk-container-id-3 div.sk-parallel {display: flex;align-items: stretch;justify-content: center;background-color: white;position: relative;}#sk-container-id-3 div.sk-item::before, #sk-container-id-3 div.sk-parallel-item::before {content: \"\";position: absolute;border-left: 1px solid gray;box-sizing: border-box;top: 0;bottom: 0;left: 50%;z-index: -1;}#sk-container-id-3 div.sk-parallel-item {display: flex;flex-direction: column;z-index: 1;position: relative;background-color: white;}#sk-container-id-3 div.sk-parallel-item:first-child::after {align-self: flex-end;width: 50%;}#sk-container-id-3 div.sk-parallel-item:last-child::after {align-self: flex-start;width: 50%;}#sk-container-id-3 div.sk-parallel-item:only-child::after {width: 0;}#sk-container-id-3 div.sk-dashed-wrapped {border: 1px dashed gray;margin: 0 0.4em 0.5em 0.4em;box-sizing: border-box;padding-bottom: 0.4em;background-color: white;}#sk-container-id-3 div.sk-label label {font-family: monospace;font-weight: bold;display: inline-block;line-height: 1.2em;}#sk-container-id-3 div.sk-label-container {text-align: center;}#sk-container-id-3 div.sk-container {/* jupyter's `normalize.less` sets `[hidden] { display: none; }` but bootstrap.min.css set `[hidden] { display: none !important; }` so we also need the `!important` here to be able to override the default hidden behavior on the sphinx rendered scikit-learn.org. See: https://github.com/scikit-learn/scikit-learn/issues/21755 */display: inline-block !important;position: relative;}#sk-container-id-3 div.sk-text-repr-fallback {display: none;}</style><div id=\"sk-container-id-3\" class=\"sk-top-container\"><div class=\"sk-text-repr-fallback\"><pre>LassoCV()</pre><b>In a Jupyter environment, please rerun this cell to show the HTML representation or trust the notebook. <br />On GitHub, the HTML representation is unable to render, please try loading this page with nbviewer.org.</b></div><div class=\"sk-container\" hidden><div class=\"sk-item\"><div class=\"sk-estimator sk-toggleable\"><input class=\"sk-toggleable__control sk-hidden--visually\" id=\"sk-estimator-id-3\" type=\"checkbox\" checked><label for=\"sk-estimator-id-3\" class=\"sk-toggleable__label sk-toggleable__label-arrow\">LassoCV</label><div class=\"sk-toggleable__content\"><pre>LassoCV()</pre></div></div></div></div></div>"
      ],
      "text/plain": [
       "LassoCV()"
      ]
     },
     "execution_count": 59,
     "metadata": {},
     "output_type": "execute_result"
    }
   ],
   "source": [
    "lasso.fit(X_train, Y_train)"
   ]
  },
  {
   "cell_type": "markdown",
   "id": "b1e3ac00-d10c-43c0-adbf-50a77fa3ebd3",
   "metadata": {},
   "source": [
    "Делаем предсказание"
   ]
  },
  {
   "cell_type": "code",
   "execution_count": 60,
   "id": "e3da1b1a-07be-4e38-b7ea-d4a44cf43e88",
   "metadata": {},
   "outputs": [],
   "source": [
    "y_pred = lasso.predict(X_test)"
   ]
  },
  {
   "cell_type": "markdown",
   "id": "3b8dd6cc-540a-4475-a79f-ca9ee0f1f8c3",
   "metadata": {},
   "source": [
    "Выводим метрики, смотрим на то, как хорошо обучилась модель"
   ]
  },
  {
   "cell_type": "code",
   "execution_count": 61,
   "id": "f226a480-0f6e-4b74-b306-0a66c409a712",
   "metadata": {},
   "outputs": [
    {
     "name": "stdout",
     "output_type": "stream",
     "text": [
      "MAE: 1.1251927172392588\n",
      "MSE: 4.27481282478598\n",
      "RMSE: 2.0675620485939423\n",
      "R2 score: 0.7361088584838648\n"
     ]
    }
   ],
   "source": [
    "print(f'MAE: {mean_absolute_error(y_pred, Y_test)}')\n",
    "print(f'MSE: {mean_squared_error(y_pred, Y_test)}')\n",
    "print(f'RMSE: {mean_squared_error(y_pred, Y_test)**(1/2)}')\n",
    "print(f'R2 score: {r2_score(y_pred, Y_test)}')\n",
    "r2LASSO = r2_score(y_pred, Y_test)"
   ]
  },
  {
   "cell_type": "code",
   "execution_count": 62,
   "id": "be2cc092-6ef8-48db-9ca4-a1e8e7081b3f",
   "metadata": {},
   "outputs": [
    {
     "data": {
      "text/plain": [
       "<matplotlib.collections.PathCollection at 0x1bea5b821c0>"
      ]
     },
     "execution_count": 62,
     "metadata": {},
     "output_type": "execute_result"
    },
    {
     "data": {
      "image/png": "[encoded data removed]",
      "text/plain": [
       "<Figure size 640x480 with 1 Axes>"
      ]
     },
     "metadata": {},
     "output_type": "display_data"
    }
   ],
   "source": [
    "plt.scatter(Y_test,y_pred)"
   ]
  },
  {
   "cell_type": "markdown",
   "id": "52aa7fad-9be7-48e3-be82-7f9051d91f39",
   "metadata": {},
   "source": [
    "Пока что данная модель обучилась хуже предыдущих"
   ]
  },
  {
   "cell_type": "markdown",
   "id": "31f452a6-fc6a-43ba-92c5-7d030e2da35d",
   "metadata": {},
   "source": [
    "Посмотрим, что даст кросс-валидация"
   ]
  },
  {
   "cell_type": "code",
   "execution_count": 63,
   "id": "f66ab999-6c82-47c4-8fbf-b25e6506da8d",
   "metadata": {},
   "outputs": [],
   "source": [
    "kf = KFold(10)\n",
    "cross_val = cross_val_score(lasso, X_train, Y_train, cv=kf, scoring='r2')\n",
    "cv_mean = np.mean(cross_val)"
   ]
  },
  {
   "cell_type": "code",
   "execution_count": 64,
   "id": "061e35fe-a8e3-481c-a29a-b9e55503edac",
   "metadata": {},
   "outputs": [
    {
     "name": "stdout",
     "output_type": "stream",
     "text": [
      "Train CV scores : [0.85819048 0.7778496  0.92019336 0.84804536 0.78776441 0.87270138\n",
      " 0.65333676 0.89869917 0.77438679 0.84528119]\n",
      "Train CV mean : 0.824\n"
     ]
    }
   ],
   "source": [
    "print(\"Train CV scores :\", cross_val)\n",
    "print(\"Train CV mean :\", round(cv_mean, 3))"
   ]
  },
  {
   "cell_type": "code",
   "execution_count": 65,
   "id": "1387c608-42a7-4040-a8c2-e60777f641e7",
   "metadata": {},
   "outputs": [],
   "source": [
    "kf = KFold(5)\n",
    "cross_val = cross_val_score(lasso, X_train, Y_train, cv=kf, scoring='r2')\n",
    "cv_mean = np.mean(cross_val)"
   ]
  },
  {
   "cell_type": "code",
   "execution_count": 66,
   "id": "029bb415-8175-44fd-83ac-2ada5869e1d5",
   "metadata": {},
   "outputs": [
    {
     "name": "stdout",
     "output_type": "stream",
     "text": [
      "Train CV scores : [0.85798704 0.86311521 0.80824833 0.86544089 0.86273154]\n",
      "Train CV mean : 0.852\n"
     ]
    }
   ],
   "source": [
    "print(\"Train CV scores :\", cross_val)\n",
    "print(\"Train CV mean :\", round(cv_mean, 3))"
   ]
  },
  {
   "cell_type": "markdown",
   "id": "61d3dff6-2424-4b81-84da-c8fd3cdeeac9",
   "metadata": {},
   "source": [
    "В большинстве случаях модель выдаёт хорошие результаты"
   ]
  },
  {
   "cell_type": "markdown",
   "id": "15e44642-ac9f-41f8-8e8d-7098fefe5cfb",
   "metadata": {},
   "source": [
    "### Сравнение"
   ]
  },
  {
   "cell_type": "code",
   "execution_count": 67,
   "id": "21b0aea9-7fa2-4372-bf70-2da7988be8c1",
   "metadata": {},
   "outputs": [
    {
     "data": {
      "text/html": [
       "<div>\n",
       "<style scoped>\n",
       "    .dataframe tbody tr th:only-of-type {\n",
       "        vertical-align: middle;\n",
       "    }\n",
       "\n",
       "    .dataframe tbody tr th {\n",
       "        vertical-align: top;\n",
       "    }\n",
       "\n",
       "    .dataframe thead th {\n",
       "        text-align: right;\n",
       "    }\n",
       "</style>\n",
       "<table border=\"1\" class=\"dataframe\">\n",
       "  <thead>\n",
       "    <tr style=\"text-align: right;\">\n",
       "      <th></th>\n",
       "      <th>Regressors</th>\n",
       "      <th>R2_Score</th>\n",
       "    </tr>\n",
       "  </thead>\n",
       "  <tbody>\n",
       "    <tr>\n",
       "      <th>0</th>\n",
       "      <td>LinearRegression</td>\n",
       "      <td>0.801609</td>\n",
       "    </tr>\n",
       "    <tr>\n",
       "      <th>1</th>\n",
       "      <td>DecisionTreeRegressor</td>\n",
       "      <td>0.908666</td>\n",
       "    </tr>\n",
       "    <tr>\n",
       "      <th>2</th>\n",
       "      <td>LASSO</td>\n",
       "      <td>0.736109</td>\n",
       "    </tr>\n",
       "  </tbody>\n",
       "</table>\n",
       "</div>"
      ],
      "text/plain": [
       "              Regressors  R2_Score\n",
       "0       LinearRegression  0.801609\n",
       "1  DecisionTreeRegressor  0.908666\n",
       "2                  LASSO  0.736109"
      ]
     },
     "execution_count": 67,
     "metadata": {},
     "output_type": "execute_result"
    }
   ],
   "source": [
    "# Построим отдельный датафрейм, где будем хранить r2 score, чтобы потом их сравнить\n",
    "regressors =[\"LinearRegression\", \"DecisionTreeRegressor\", \"LASSO\"]\n",
    "\n",
    "log_cols = [\"Regressors\", \"R2_Score\"]\n",
    "log = pd.DataFrame(columns=log_cols)\n",
    "\n",
    "# Заполняем таблицу\n",
    "log[\"Regressors\"] = regressors\n",
    "log[\"R2_Score\"] = [r2LinearRegression, r2DecisionTreeRegressor, r2LASSO]\n",
    "\n",
    "# Выводим\n",
    "log"
   ]
  },
  {
   "cell_type": "markdown",
   "id": "f6337e9d-29d1-4118-b658-664fb25436f2",
   "metadata": {},
   "source": [
    "Теперь вывдеме график и сравним наши модели"
   ]
  },
  {
   "cell_type": "code",
   "execution_count": 69,
   "id": "d8ac6491-9a27-4c0a-8c8a-32ab25dda88a",
   "metadata": {},
   "outputs": [
    {
     "data": {
      "image/png": "[encoded data removed]",
      "text/plain": [
       "<Figure size 640x480 with 1 Axes>"
      ]
     },
     "metadata": {},
     "output_type": "display_data"
    }
   ],
   "source": [
    "plt.xlabel('R2_Score')\n",
    "plt.title('Regressors Accuracy')\n",
    "\n",
    "sns.set_color_codes(\"muted\")\n",
    "sns.barplot(x='R2_Score', y='Regressors', data=log.sort_values(by='R2_Score'), color=\"b\");"
   ]
  },
  {
   "cell_type": "markdown",
   "id": "9c802189-4bac-4fb6-af90-7c4018c5e553",
   "metadata": {},
   "source": [
    "В итоге можно построить следующий топ моделей:  \n",
    "1. DecisionTreeRegressor  \n",
    "2. LinearRegression  \n",
    "3. LASSO\n",
    "  \n",
    "Самой лучшей моделью оказался DecisionTreeRegressor "
   ]
  },
  {
   "cell_type": "markdown",
   "id": "53a4f696-5dce-4551-8edd-7e4fd794844f",
   "metadata": {},
   "source": [
    "### Вывод"
   ]
  },
  {
   "cell_type": "markdown",
   "id": "04b4495f-086f-417c-b1ea-3386c37ec9ff",
   "metadata": {},
   "source": [
    "Провели разведочный анализ данных и предобработку данных:  \n",
    "- пустых значений обнаруженно не было  \n",
    "- было удалено 2 записи, которые являлись дубликатами  \n",
    "- удалили записи, которые могли бы повлиять на обучние (запись с машиной, которая была дороже 40 и запись с машиной у которой был пробег 500 000)  \n",
    "- у признаков не наблюдается нормальное распределенин\n",
    "- есть несколько коррелирующих между собой признаков\n",
    "\n",
    "Обучили 3 модели: LinearRegression, DecisionTreeRegressor и LASSO  \n",
    "Провели сравнение моделей по R2 Score: лучшей моделью оказался DecisionTreeRegressor, а худшей - LASSO"
   ]
  }
 ],
 "metadata": {
  "kernelspec": {
   "display_name": "Python 3 (ipykernel)",
   "language": "python",
   "name": "python3"
  },
  "language_info": {
   "codemirror_mode": {
    "name": "ipython",
    "version": 3
   },
   "file_extension": ".py",
   "mimetype": "text/x-python",
   "name": "python",
   "nbconvert_exporter": "python",
   "pygments_lexer": "ipython3",
   "version": "3.8.2"
  }
 },
 "nbformat": 4,
 "nbformat_minor": 5
}
